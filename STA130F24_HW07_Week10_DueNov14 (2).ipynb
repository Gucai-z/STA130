{
 "cells": [
  {
   "cell_type": "markdown",
   "id": "d66d4cf7",
   "metadata": {},
   "source": [
    "# STA130 Homework 07\n",
    "\n",
    "Please see the course [wiki-textbook](https://github.com/pointOfive/stat130chat130/wiki) for the list of topics covered in this homework assignment, and a list of topics that might appear during ChatBot conversations which are \"out of scope\" for the purposes of this homework assignment (and hence can be safely ignored if encountered)\n"
   ]
  },
  {
   "cell_type": "markdown",
   "id": "2e2c467d",
   "metadata": {},
   "source": [
    "<details class=\"details-example\"><summary style=\"color:blue\"><u>Introduction</u></summary>\n",
    "\n",
    "### Introduction\n",
    "    \n",
    "A reasonable characterization of STA130 Homework is that it simply defines a weekly reading comprehension assignment. \n",
    "Indeed, STA130 Homework essentially boils down to completing various understanding confirmation exercises oriented around coding and writing tasks.\n",
    "However, rather than reading a textbook, STA130 Homework is based on ChatBots so students can interactively follow up to clarify questions or confusion that they may still have regarding learning objective assignments.\n",
    "\n",
    "> Communication is a fundamental skill underlying statistics and data science, so STA130 Homework based on ChatBots helps practice effective two-way communication as part of a \"realistic\" dialogue activity supporting underlying conceptual understanding building. \n",
    "\n",
    "It will likely become increasingly tempting to rely on ChatBots to \"do the work for you\". But when you find yourself frustrated with a ChatBots inability to give you the results you're looking for, this is a \"hint\" that you've become overreliant on the ChatBots. Your objective should not be to have ChatBots \"do the work for you\", but to use ChatBots to help you build your understanding so you can efficiently leverage ChatBots (and other resources) to help you work more efficiently.<br><br>\n",
    "\n",
    "</details>\n",
    "\n",
    "<details class=\"details-example\"><summary style=\"color:blue\"><u>Instructions</u></summary>\n",
    "\n",
    "### Instructions\n",
    "    \n",
    "1. Code and write all your answers (for both the \"Prelecture\" and \"Postlecture\" HW) in a python notebook (in code and markdown cells) \n",
    "    \n",
    "> It is *suggested but not mandatory* that you complete the \"Prelecture\" HW prior to the Monday LEC since (a) all HW is due at the same time; but, (b) completing some of the HW early will mean better readiness for LEC and less of a \"procrastentation cruch\" towards the end of the week...\n",
    "    \n",
    "2. Paste summaries of your ChatBot sessions (including link(s) to chat log histories if you're using ChatGPT) within your notebook\n",
    "    \n",
    "> Create summaries of your ChatBot sessions by using concluding prompts such as \"Please provide a summary of our exchanges here so I can submit them as a record of our interactions as part of a homework assignment\" or, \"Please provide me with the final working verson of the code that we created together\"\n",
    "    \n",
    "3. Save your python jupyter notebook in your own account and \"repo\" on [github.com](github.com) and submit a link to that notebook though Quercus for assignment marking<br><br>\n",
    "\n",
    "</details>\n",
    "\n",
    "<details class=\"details-example\"><summary style=\"color:blue\"><u>Prompt Engineering?</u></summary>\n",
    "\n",
    "### Prompt Engineering?    \n",
    "    \n",
    "The questions (as copy-pasted prompts) are designed to initialize appropriate ChatBot conversations which can be explored in the manner of an interactive and dynamic textbook; but, it is nonetheless **strongly recommendated** that your rephrase the questions in a way that you find natural to ensure a clear understanding of the question. Given sensible prompts the represent a question well, the two primary challenges observed to arise from ChatBots are \n",
    "\n",
    "1. conversations going beyond the intended scope of the material addressed by the question; and, \n",
    "2. unrecoverable confusion as a result of sequential layers logial inquiry that cannot be resolved. \n",
    "\n",
    "In the case of the former (1), adding constraints specifying the limits of considerations of interest tends to be helpful; whereas, the latter (2) is often the result of initial prompting that leads to poor developments in navigating the material, which are likely just best resolve by a \"hard reset\" with a new initial approach to prompting.  Indeed, this is exactly the behavior [hardcoded into copilot](https://answers.microsoft.com/en-us/bing/forum/all/is-this-even-normal/0b6dcab3-7d6c-4373-8efe-d74158af3c00)...\n",
    "\n",
    "</details>"
   ]
  },
  {
   "cell_type": "markdown",
   "id": "b6f84f1d",
   "metadata": {},
   "source": [
    "\n",
    "### Marking Rubric (which may award partial credit) \n",
    "\n",
    "- [0.1 points]: All relevant ChatBot summaries [including link(s) to chat log histories if you're using ChatGPT] are reported within the notebook\n",
    "- [0.3 points]: Well-communicated, clear demonstration of the \"model building\" process and techniques of \"Question 4\"\n",
    "- [0.3 points]: Well-communicated, clear demonstration of the \"model building\" process and techniques of \"Question 7\"\n",
    "- [0.3 points]: Well-communicated, clear demonstration of the \"model building\" process and techniques of \"Question 9\"\n"
   ]
  },
  {
   "cell_type": "markdown",
   "id": "ed7ef03a",
   "metadata": {},
   "source": [
    "## \"Pre-lecture\" HW [*completion prior to next LEC is suggested but not mandatory*]\n"
   ]
  },
  {
   "cell_type": "markdown",
   "id": "aaf63d8b",
   "metadata": {},
   "source": [
    "#### 1. Explain succinctly in your own words (but working with a ChatBot if needed)...\n",
    "\n",
    "1. the difference between **Simple Linear Regression** and **Multiple Linear Regression**; and the benefit the latter provides over the former\n",
    "2. the difference between using a **continuous variable** and an **indicator variable** in **Simple Linear Regression**; and these two **linear forms**\n",
    "3. the change that happens in the behavior of the model (i.e., the expected nature of the data it models) when a single **indicator variable** is introduced alongside a **continuous variable** to create a **Multiple Linear Regression**; and these two **linear forms** (i.e., the **Simple Linear Regression** versus the **Multiple Linear Regression**)\n",
    "4. the effect of adding an **interaction** between a **continuous** and an **indicator variable** in **Multiple Linear Regression** models; and this **linear form**\n",
    "5. the behavior of a **Multiple Linear Regression** model (i.e., the expected nature of the data it models) based only on **indicator variables** derived from a **non-binary categorical variable**; this **linear form**; and the necessarily resulting **binary variable encodings** it utilizes\n",
    "       \n",
    "<details class=\"details-example\"><summary style=\"color:blue\"><u>Further Guidance</u></summary>\n",
    "\n",
    "> *The requested **linear forms** are **equations**, and answers must include **equations** along with the explanations that interpret the **linear forms**. Write you **linear forms** using a style something like*\n",
    "> \n",
    "> - \"outcome = $\\beta_0$ + $\\beta_1$ predictorA + $\\beta_A$ predictorA + $\\beta_B$ 1(predictorB)\" \n",
    "> - where the \"1(.)\" notation is for indicator variables \n",
    "> - or feel free to use an similar alternative if a ChatBot provides you with another notation you think is clearer and like better if you prefer\n",
    ">\n",
    "> *Do include the **intercept** in your **linear forms**. You don't have to include notation related to the **error** term since this is essentially always assumed (and usually we don't bother including the **intercept** in such shorthand specifications for the same reason), but don't forget to include the **intercept** here this time (for practice). The modeling **assumptions** do not need to be addressed beyond this, but explanations will likely address the number of variables and the essential use-case (perhaps illustrated through examples) the different models imply.*    \n",
    "> \n",
    "> *Answers to the final question above should address the notion of a \"baseline\" group and it's role for **model interpretation**, why \"number of categories minus one\" **indicator variables** are used to represent the original **categorical variable**, and the relationship between the **binary** and **categorical variables** that are relevant for this model specification. An example use-case would likely be helpful for illustration here.* \n",
    "\n",
    "</details> \n"
   ]
  },
  {
   "cell_type": "markdown",
   "id": "8ba1ccb2",
   "metadata": {},
   "source": [
    "1.Simple Linear Regression (SLR) involves modeling the relationship between a dependent variable y and one independent variable x. The linear form for SLR is given by: y=β0+β1x\n",
    "where:β0 is the intercept, β1 is the coefficient of the predictor variable x.\n",
    "Multiple Linear Regression (MLR) extends this idea by modeling y as a function of two or more independent variables x1,x2,…,xn​. The linear form for MLR with two predictors is given by: y=β0+β1x1+β2x2\n",
    "The benefit of MLR over SLR is that it allows us to understand how multiple factors jointly influence the dependent variable, providing a more comprehensive model of complex relationships."
   ]
  },
  {
   "cell_type": "markdown",
   "id": "6f4ca87d",
   "metadata": {},
   "source": [
    "2.Continuous Variable in SLR: represents a variable that can take any numeric value within a range. An example form is: y=β0+β1x where x can be any continuous numeric variable\n",
    "Indicator Variable in SLR: represents a binary categorical variable that takes values 0 or 1.\n",
    "An example form is: y=β0+β1 1(x).1(x) is an indicator variable that changes the value of y when a condition is met "
   ]
  },
  {
   "cell_type": "markdown",
   "id": "2d68e808",
   "metadata": {},
   "source": [
    "3.When an indicator variable is introduced alongside a continuous variable in MLR, the model becomes:y=β0+β1x1+β2 1(x2)\n",
    "x1 is a continuous variable, and 1(x2) is an indicator variable. The model now allows for a different intercept based on whether the condition represented by 1(x2) is met. This enables the model to distinguish between groups within the data, creating two parallel lines with different intercepts."
   ]
  },
  {
   "cell_type": "markdown",
   "id": "a2f590c9",
   "metadata": {},
   "source": [
    "4.Adding an interaction term between a continuous variable and an indicator variable in MLR creates a model of the form:y=β0+β1x1+β2 1(x2)+β3(x1*1(x2))\n",
    "This form allows for both a shift in the intercept and a change in the slope for the continuous predictor when the indicator variable is active. It models different relationships between y and x1 depending on the category represented by the indicator."
   ]
  },
  {
   "cell_type": "markdown",
   "id": "458336db",
   "metadata": {},
   "source": [
    "5.When MLR is based solely on indicator variables derived from a non-binary categorical variable with k categories, k−1 indicator variables are used to avoid multicollinearity. The form of the model is:y=β0+β1 1(x=Category1)+β2 1(x=Category2)+…+βk−1 1(x=Categoryk−1) "
   ]
  },
  {
   "cell_type": "markdown",
   "id": "8cc155a4",
   "metadata": {},
   "source": [
    "#### 2. Explain in your own words (but working with a ChatBot if needed) what the specific (outcome and predictor) variables are for the scenario below; whether or not any meaningful interactions might need to be taken into account when predicting the outcome; and provide the linear forms with and without the potential interactions that might need to be considered\n",
    "\n",
    "> Imagine a company that sells sports equipment. The company runs advertising campaigns on TV and online platforms. The effectiveness of the TV ad might depend on the amount spent on online advertising and vice versa, leading to an interaction effect between the two advertising mediums.    \n",
    "\n",
    "1. Explain how to use these two formulas to make **predictions** of the **outcome**, and give a high level explaination in general terms of the difference between **predictions** from the models with and without the **interaction** \n",
    "\n",
    "2. Explain how to update and use the implied two formulas to make predictions of the outcome if, rather than considering two continuous predictor variables, we instead suppose the advertisement budgets are simply categorized as either \"high\" or \"low\" (binary variables)    \n",
    "    \n",
    "<details class=\"details-example\"><summary style=\"color:blue\"><u>Further Guidance</u></summary>\n",
    "\n",
    "> *While working on this question, it's important to clearly understand the (**outcome** and **predictor**) **variables** under consideration, and they way they are being considered. Similarly to the previous (first) question of this homework assignment, this question requires the **equations** of the indicated **linear forms** and an explanation of their **interpretation** and use. What is different here is that the **interactions** being considered are between two **continuous variables** or two **binary variables** (for a total of four **equations** under consideration where two include the **interactions** and two do not).*\n",
    ">\n",
    "> *The way an **interaction** actually appears and works in the context of the linear form of a **multiple linear regression** model may not necessarily be immediately intuitive, as it is actually in fact somewhat subtle and tricky. Of course, an **interaction** is when the relationship of one **predictor variable** with the **outcome variable** depends on the value of another different **predictor variable**, so the impact of one **predictor variable** changes based on the presence or magnitude of another **predictor variable**. But are you sure you know what this means in the context of the **linear form** of a **multiple linear regression** model?*\n",
    ">\n",
    "> - Imagine you're selling smoothies, the taste of your smoothie depends on the ingredients included in the smoothie, and there are two ingredients (bananas and strawberries) in the smoothie.\n",
    ">     - Adding more bananas into the smoothie will of course increase the \"banana\" flavor of the smoothie, and vice-versa for strawberries...\n",
    ">     - But is this \"banana\" influence on the flavor always constant, or can it change depending on the absolute amount of strawberries in the smoothie? \n",
    ">     - If the \"banana\" flavor influence is constant and does not depend on the  absolute amount of strawberries in the smoothie, then there is no **interaction** and the **linear form** of the model is $\\beta_b b_i + \\beta_s s_i$ and the model is said to be only **additive**.\n",
    ">     - But if the \"banana\" flavor influence does depend on the absolute amount of strawberries in the smoothie, then there IS an **interaction** and the **linear form** of the model is $\\beta_b b_i + \\beta_s s_i + \\beta_{bs} (b_i\\times s_i)$ and the model is said to be **synergistic**.\n",
    ">         \n",
    "> These **linear forms** show that either bananas and strawberries do not have any **synergistic interaction** and contribute to the flavor independently; or, they do have a **synergistic interaction** and there is an interesting interplay between bananas and strawberries in the way they influence the taste of the smoothie. \n",
    "> \n",
    "> - So, if there is no **interaction**, then the effect of adding more bananas on the taste of the smoothie will always be the same, no matter how many strawberries you put in. So the effect of bananas on the smoothie is the same whether you add a lot of strawberries or just a few: $\\beta_b b_i + \\beta_s s_i$\n",
    "> - Or, on the other hand, if there is an **interaction**, then the effect of adding bananas (on the smootie flavor) will be different depending on how many strawberries there currently are in the smoothie: $\\beta_b b_i + \\beta_s s_i + \\beta_{bs} (b_i\\times s_i)$\n",
    "> \n",
    "> *In this case, the right answer is probably that the **linear form** with the **interaction** is correct. This is because the flavor probably depends on the relative amount of bananas and strawberries in the smoothie; so, the effect of adding a fixed amount of bananas to the smoothie probalby depends on the absolute amount of strawberries that are in the smoothie.*\n",
    "> \n",
    "> *Again, because understanding **interactions** in the context of **linear forms** is somewhat subtle and tricky and indeed not necessarily obviously intuitive, let's think about this a bit more. And we can simplify the concept a little bit by considering how this **interaction** would actually technically work in a **linear form** if we just had **binary indicator variables**.*\n",
    "         \n",
    "> - To consider the smootie example in terms of binary variables, suppose that if both fruits are added to the smootie, they will be added in the same amount. So the smoothie will be made with either just bananas, just strawberries, or both (or neither and you won't make a smoothie). \n",
    ">     - The question regarding an **interaction** then is, is the influence of the ingredients on the taste of the smoothie **additive** or **synergistic**? That is, does the way bananas affects the flavor of the smoothie change depending on the inclusion or exclusion of strawberries in the smoothie?\n",
    ">     - **Additive** $\\beta_b 1_{[b_i=1]}(b_i) + \\beta_s 1_{[s_i=1]}(s_i)$ means there are three different flavors but they are explained by just two **parameters**: banana $\\beta_b$, strawberry $\\beta_s$, and banana-strawberry $\\beta_b+\\beta_s$\n",
    ">     - **Synergistic** $\\beta_b 1_{[b_i=1]}(b_i) + \\beta_s 1_{[s_i=1]}(s_i) + \\beta_{bs}(1_{[b_i=1]}(b_i) \\times 1_{[s_i=1]}(s_i))$ means there are of course again three different flavors, but this time they are explained by three **parameters**: banana $\\beta_b$, strawberry $\\beta_s$, and banana-strawberry $\\beta_b+\\beta_s + \\beta_{bs}$, which indicates that the flavor is \"more than just sum of its parts\", meaning there is a **synergistic interaction** and there is an interesting interplay between bananas and strawberries in the way they influence the taste of the smoothie\n",
    ">     \n",
    "> *As the **additive** and **synergistic** versions of the **linear form** of the two **binary indicator variables** context shows, we don't need an interaction to make different predictions for different combinations of things. Instead, what these show is that the prediction will either be **additive** and \"just the sum of it's parts\" or **synergistic** (**interactive**) and \"more than just sum of its parts\".*\n",
    "    \n",
    "</details>\n"
   ]
  },
  {
   "cell_type": "markdown",
   "id": "9a4a41da",
   "metadata": {},
   "source": [
    "Outcome Variable: Sales of sports equipment； Predictor Variables: Budget spent on TV advertising1(x1) and budget spent on online advertising (x2).\n",
    "Linear Forms Without Interaction：Sales=β0+β1x1+β2x2 This model assumes that the effect of TV advertising on sales is independent of the amount spent on online advertising, and vice versa. The two predictors contribute additively to sales without any influence on each other.  With Interaction: Sales=β0+β1x1+β2x2+β3(x1⋅x2)"
   ]
  },
  {
   "cell_type": "markdown",
   "id": "8f66c8f8",
   "metadata": {},
   "source": [
    "For Sales=β0+β1x1+β2x2,predictions are straightforward; an increase in x1 or x2 independently contributes a fixed amount to sales. For instance, if I increase the TV budget, the sales increase by β1 units regardless of the online budget.\n",
    "For Sales=β0+β1x1+β2x2+β3(x1⋅x2) this model, predictions are more nuanced. The effectiveness of one medium's budget on sales depends on the other. For example, increasing TV spending when online spending is high might lead to a larger increase in sales than when online spending is low."
   ]
  },
  {
   "cell_type": "markdown",
   "id": "c91a8013",
   "metadata": {},
   "source": [
    "Linear Forms with Binary Indicator Variables \n",
    "1.Without Interaction:\n",
    "Sales=β0+β11(High TV)+β21(High Online)Here, 1(High TV)and 1(High Online)are binary variables that equal 1 if the budget is \"High\" and 0 otherwise. The model assumes that having a high budget for TV or online ads independently adds a fixed amount to sales.\n",
    "2.With Interaction :\n",
    "Sales=β0+β11(High TV)+β21(High Online)+β3(1(High TV)⋅1(High Online))This form adds an interaction term that accounts for whether both budgets are high. If β3>0, it means that the effect of high spending on one medium is enhanced when the other medium's spending is also high."
   ]
  },
  {
   "cell_type": "markdown",
   "id": "d58983b9",
   "metadata": {},
   "source": [
    "Without interaction, each predictor has a consistent effect regardless of the level of the other predictor."
   ]
  },
  {
   "cell_type": "markdown",
   "id": "f097af67",
   "metadata": {},
   "source": [
    "#### 3. Use [smf](https://www.statsmodels.org/dev/examples/notebooks/generated/formulas.html) to fit **multiple linear regression** models to the course project dataset from the canadian social connection survey\n",
    "1. for an **additive** specification for the **linear form** based on any combination of a couple **continuous**, **binary**, and/or **categorical variables** \n",
    "2. for a **synertistic interaction** specification for the **linear form** based on any combination of a couple **continuous**, **binary**, and/or **categorical variables** \n",
    "3. and **interpretively explain** your **linear forms** and how to use them to make **predictions**\n",
    "4. and interpret the statistical evidence associated with the **predictor variables** for each of your model specifications \n",
    "5. and finally use `plotly` to visualize the data with corresponding \"best fit lines\" for a model with **continuous** plus **binary indicator** specification under both (a) **additive** and (b) **synergistic** specifications of the **linear form** (on separate figures), commenting on the apparent necessity (or lack thereof) of the **interaction** term for the data in question\n",
    "\n",
    "<details class=\"details-example\"><summary style=\"color:blue\"><u>Further Guidance</u></summary>\n",
    "\n",
    "> *The \"best fit lines\" summarize the relationship between the **outcome** and **predictor variables** observed in the data as well as the **linear form** of the **multiple linear regression** allows. The statistical evidence for the these estimated realtionship characterizations of course depends on an evaluation of the **hypothesis testing** for the **coefficients** of the model. **Model building** is the process of exploring the evidence for observed relationships captured through the modeling of the data in order to arrive at reliable (**generalizable**) claims based on the data, and perhaps make predictions about the future based on these created beliefs and understandings (whose value of course depends on how trustworthy these created beliefs and understandings are).*\n",
    ">\n",
    "> *When we do not find sufficient sufficient evidence for supposed relationships that we'd like to leverage for understanding or prediction, attempting to move forward on the basis of such \"findings\" is certainly a dangerous errand...*\n",
    "    \n",
    "</details>\n"
   ]
  },
  {
   "cell_type": "code",
   "execution_count": 1,
   "id": "2b980b12",
   "metadata": {
    "collapsed": true
   },
   "outputs": [
    {
     "ename": "FileNotFoundError",
     "evalue": "[Errno 2] No such file or directory: 'canadian_social_connection.csv'",
     "output_type": "error",
     "traceback": [
      "\u001b[0;31m---------------------------------------------------------------------------\u001b[0m",
      "\u001b[0;31mFileNotFoundError\u001b[0m                         Traceback (most recent call last)",
      "Cell \u001b[0;32mIn[1], line 4\u001b[0m\n\u001b[1;32m      1\u001b[0m \u001b[38;5;28;01mimport\u001b[39;00m \u001b[38;5;21;01mpandas\u001b[39;00m \u001b[38;5;28;01mas\u001b[39;00m \u001b[38;5;21;01mpd\u001b[39;00m\n\u001b[1;32m      2\u001b[0m \u001b[38;5;28;01mimport\u001b[39;00m \u001b[38;5;21;01mstatsmodels\u001b[39;00m\u001b[38;5;21;01m.\u001b[39;00m\u001b[38;5;21;01mformula\u001b[39;00m\u001b[38;5;21;01m.\u001b[39;00m\u001b[38;5;21;01mapi\u001b[39;00m \u001b[38;5;28;01mas\u001b[39;00m \u001b[38;5;21;01msmf\u001b[39;00m\n\u001b[0;32m----> 4\u001b[0m df \u001b[38;5;241m=\u001b[39m \u001b[43mpd\u001b[49m\u001b[38;5;241;43m.\u001b[39;49m\u001b[43mread_csv\u001b[49m\u001b[43m(\u001b[49m\u001b[38;5;124;43m'\u001b[39;49m\u001b[38;5;124;43mcanadian_social_connection.csv\u001b[39;49m\u001b[38;5;124;43m'\u001b[39;49m\u001b[43m)\u001b[49m \n\u001b[1;32m      6\u001b[0m additive_model \u001b[38;5;241m=\u001b[39m smf\u001b[38;5;241m.\u001b[39mols(formula\u001b[38;5;241m=\u001b[39m\u001b[38;5;124m'\u001b[39m\u001b[38;5;124msocial_score ~ age + gender\u001b[39m\u001b[38;5;124m'\u001b[39m, data\u001b[38;5;241m=\u001b[39mdf)\u001b[38;5;241m.\u001b[39mfit()\n\u001b[1;32m      7\u001b[0m \u001b[38;5;28mprint\u001b[39m(additive_model\u001b[38;5;241m.\u001b[39msummary())\n",
      "File \u001b[0;32m/opt/conda/lib/python3.11/site-packages/pandas/io/parsers/readers.py:948\u001b[0m, in \u001b[0;36mread_csv\u001b[0;34m(filepath_or_buffer, sep, delimiter, header, names, index_col, usecols, dtype, engine, converters, true_values, false_values, skipinitialspace, skiprows, skipfooter, nrows, na_values, keep_default_na, na_filter, verbose, skip_blank_lines, parse_dates, infer_datetime_format, keep_date_col, date_parser, date_format, dayfirst, cache_dates, iterator, chunksize, compression, thousands, decimal, lineterminator, quotechar, quoting, doublequote, escapechar, comment, encoding, encoding_errors, dialect, on_bad_lines, delim_whitespace, low_memory, memory_map, float_precision, storage_options, dtype_backend)\u001b[0m\n\u001b[1;32m    935\u001b[0m kwds_defaults \u001b[38;5;241m=\u001b[39m _refine_defaults_read(\n\u001b[1;32m    936\u001b[0m     dialect,\n\u001b[1;32m    937\u001b[0m     delimiter,\n\u001b[0;32m   (...)\u001b[0m\n\u001b[1;32m    944\u001b[0m     dtype_backend\u001b[38;5;241m=\u001b[39mdtype_backend,\n\u001b[1;32m    945\u001b[0m )\n\u001b[1;32m    946\u001b[0m kwds\u001b[38;5;241m.\u001b[39mupdate(kwds_defaults)\n\u001b[0;32m--> 948\u001b[0m \u001b[38;5;28;01mreturn\u001b[39;00m \u001b[43m_read\u001b[49m\u001b[43m(\u001b[49m\u001b[43mfilepath_or_buffer\u001b[49m\u001b[43m,\u001b[49m\u001b[43m \u001b[49m\u001b[43mkwds\u001b[49m\u001b[43m)\u001b[49m\n",
      "File \u001b[0;32m/opt/conda/lib/python3.11/site-packages/pandas/io/parsers/readers.py:611\u001b[0m, in \u001b[0;36m_read\u001b[0;34m(filepath_or_buffer, kwds)\u001b[0m\n\u001b[1;32m    608\u001b[0m _validate_names(kwds\u001b[38;5;241m.\u001b[39mget(\u001b[38;5;124m\"\u001b[39m\u001b[38;5;124mnames\u001b[39m\u001b[38;5;124m\"\u001b[39m, \u001b[38;5;28;01mNone\u001b[39;00m))\n\u001b[1;32m    610\u001b[0m \u001b[38;5;66;03m# Create the parser.\u001b[39;00m\n\u001b[0;32m--> 611\u001b[0m parser \u001b[38;5;241m=\u001b[39m \u001b[43mTextFileReader\u001b[49m\u001b[43m(\u001b[49m\u001b[43mfilepath_or_buffer\u001b[49m\u001b[43m,\u001b[49m\u001b[43m \u001b[49m\u001b[38;5;241;43m*\u001b[39;49m\u001b[38;5;241;43m*\u001b[39;49m\u001b[43mkwds\u001b[49m\u001b[43m)\u001b[49m\n\u001b[1;32m    613\u001b[0m \u001b[38;5;28;01mif\u001b[39;00m chunksize \u001b[38;5;129;01mor\u001b[39;00m iterator:\n\u001b[1;32m    614\u001b[0m     \u001b[38;5;28;01mreturn\u001b[39;00m parser\n",
      "File \u001b[0;32m/opt/conda/lib/python3.11/site-packages/pandas/io/parsers/readers.py:1448\u001b[0m, in \u001b[0;36mTextFileReader.__init__\u001b[0;34m(self, f, engine, **kwds)\u001b[0m\n\u001b[1;32m   1445\u001b[0m     \u001b[38;5;28mself\u001b[39m\u001b[38;5;241m.\u001b[39moptions[\u001b[38;5;124m\"\u001b[39m\u001b[38;5;124mhas_index_names\u001b[39m\u001b[38;5;124m\"\u001b[39m] \u001b[38;5;241m=\u001b[39m kwds[\u001b[38;5;124m\"\u001b[39m\u001b[38;5;124mhas_index_names\u001b[39m\u001b[38;5;124m\"\u001b[39m]\n\u001b[1;32m   1447\u001b[0m \u001b[38;5;28mself\u001b[39m\u001b[38;5;241m.\u001b[39mhandles: IOHandles \u001b[38;5;241m|\u001b[39m \u001b[38;5;28;01mNone\u001b[39;00m \u001b[38;5;241m=\u001b[39m \u001b[38;5;28;01mNone\u001b[39;00m\n\u001b[0;32m-> 1448\u001b[0m \u001b[38;5;28mself\u001b[39m\u001b[38;5;241m.\u001b[39m_engine \u001b[38;5;241m=\u001b[39m \u001b[38;5;28;43mself\u001b[39;49m\u001b[38;5;241;43m.\u001b[39;49m\u001b[43m_make_engine\u001b[49m\u001b[43m(\u001b[49m\u001b[43mf\u001b[49m\u001b[43m,\u001b[49m\u001b[43m \u001b[49m\u001b[38;5;28;43mself\u001b[39;49m\u001b[38;5;241;43m.\u001b[39;49m\u001b[43mengine\u001b[49m\u001b[43m)\u001b[49m\n",
      "File \u001b[0;32m/opt/conda/lib/python3.11/site-packages/pandas/io/parsers/readers.py:1705\u001b[0m, in \u001b[0;36mTextFileReader._make_engine\u001b[0;34m(self, f, engine)\u001b[0m\n\u001b[1;32m   1703\u001b[0m     \u001b[38;5;28;01mif\u001b[39;00m \u001b[38;5;124m\"\u001b[39m\u001b[38;5;124mb\u001b[39m\u001b[38;5;124m\"\u001b[39m \u001b[38;5;129;01mnot\u001b[39;00m \u001b[38;5;129;01min\u001b[39;00m mode:\n\u001b[1;32m   1704\u001b[0m         mode \u001b[38;5;241m+\u001b[39m\u001b[38;5;241m=\u001b[39m \u001b[38;5;124m\"\u001b[39m\u001b[38;5;124mb\u001b[39m\u001b[38;5;124m\"\u001b[39m\n\u001b[0;32m-> 1705\u001b[0m \u001b[38;5;28mself\u001b[39m\u001b[38;5;241m.\u001b[39mhandles \u001b[38;5;241m=\u001b[39m \u001b[43mget_handle\u001b[49m\u001b[43m(\u001b[49m\n\u001b[1;32m   1706\u001b[0m \u001b[43m    \u001b[49m\u001b[43mf\u001b[49m\u001b[43m,\u001b[49m\n\u001b[1;32m   1707\u001b[0m \u001b[43m    \u001b[49m\u001b[43mmode\u001b[49m\u001b[43m,\u001b[49m\n\u001b[1;32m   1708\u001b[0m \u001b[43m    \u001b[49m\u001b[43mencoding\u001b[49m\u001b[38;5;241;43m=\u001b[39;49m\u001b[38;5;28;43mself\u001b[39;49m\u001b[38;5;241;43m.\u001b[39;49m\u001b[43moptions\u001b[49m\u001b[38;5;241;43m.\u001b[39;49m\u001b[43mget\u001b[49m\u001b[43m(\u001b[49m\u001b[38;5;124;43m\"\u001b[39;49m\u001b[38;5;124;43mencoding\u001b[39;49m\u001b[38;5;124;43m\"\u001b[39;49m\u001b[43m,\u001b[49m\u001b[43m \u001b[49m\u001b[38;5;28;43;01mNone\u001b[39;49;00m\u001b[43m)\u001b[49m\u001b[43m,\u001b[49m\n\u001b[1;32m   1709\u001b[0m \u001b[43m    \u001b[49m\u001b[43mcompression\u001b[49m\u001b[38;5;241;43m=\u001b[39;49m\u001b[38;5;28;43mself\u001b[39;49m\u001b[38;5;241;43m.\u001b[39;49m\u001b[43moptions\u001b[49m\u001b[38;5;241;43m.\u001b[39;49m\u001b[43mget\u001b[49m\u001b[43m(\u001b[49m\u001b[38;5;124;43m\"\u001b[39;49m\u001b[38;5;124;43mcompression\u001b[39;49m\u001b[38;5;124;43m\"\u001b[39;49m\u001b[43m,\u001b[49m\u001b[43m \u001b[49m\u001b[38;5;28;43;01mNone\u001b[39;49;00m\u001b[43m)\u001b[49m\u001b[43m,\u001b[49m\n\u001b[1;32m   1710\u001b[0m \u001b[43m    \u001b[49m\u001b[43mmemory_map\u001b[49m\u001b[38;5;241;43m=\u001b[39;49m\u001b[38;5;28;43mself\u001b[39;49m\u001b[38;5;241;43m.\u001b[39;49m\u001b[43moptions\u001b[49m\u001b[38;5;241;43m.\u001b[39;49m\u001b[43mget\u001b[49m\u001b[43m(\u001b[49m\u001b[38;5;124;43m\"\u001b[39;49m\u001b[38;5;124;43mmemory_map\u001b[39;49m\u001b[38;5;124;43m\"\u001b[39;49m\u001b[43m,\u001b[49m\u001b[43m \u001b[49m\u001b[38;5;28;43;01mFalse\u001b[39;49;00m\u001b[43m)\u001b[49m\u001b[43m,\u001b[49m\n\u001b[1;32m   1711\u001b[0m \u001b[43m    \u001b[49m\u001b[43mis_text\u001b[49m\u001b[38;5;241;43m=\u001b[39;49m\u001b[43mis_text\u001b[49m\u001b[43m,\u001b[49m\n\u001b[1;32m   1712\u001b[0m \u001b[43m    \u001b[49m\u001b[43merrors\u001b[49m\u001b[38;5;241;43m=\u001b[39;49m\u001b[38;5;28;43mself\u001b[39;49m\u001b[38;5;241;43m.\u001b[39;49m\u001b[43moptions\u001b[49m\u001b[38;5;241;43m.\u001b[39;49m\u001b[43mget\u001b[49m\u001b[43m(\u001b[49m\u001b[38;5;124;43m\"\u001b[39;49m\u001b[38;5;124;43mencoding_errors\u001b[39;49m\u001b[38;5;124;43m\"\u001b[39;49m\u001b[43m,\u001b[49m\u001b[43m \u001b[49m\u001b[38;5;124;43m\"\u001b[39;49m\u001b[38;5;124;43mstrict\u001b[39;49m\u001b[38;5;124;43m\"\u001b[39;49m\u001b[43m)\u001b[49m\u001b[43m,\u001b[49m\n\u001b[1;32m   1713\u001b[0m \u001b[43m    \u001b[49m\u001b[43mstorage_options\u001b[49m\u001b[38;5;241;43m=\u001b[39;49m\u001b[38;5;28;43mself\u001b[39;49m\u001b[38;5;241;43m.\u001b[39;49m\u001b[43moptions\u001b[49m\u001b[38;5;241;43m.\u001b[39;49m\u001b[43mget\u001b[49m\u001b[43m(\u001b[49m\u001b[38;5;124;43m\"\u001b[39;49m\u001b[38;5;124;43mstorage_options\u001b[39;49m\u001b[38;5;124;43m\"\u001b[39;49m\u001b[43m,\u001b[49m\u001b[43m \u001b[49m\u001b[38;5;28;43;01mNone\u001b[39;49;00m\u001b[43m)\u001b[49m\u001b[43m,\u001b[49m\n\u001b[1;32m   1714\u001b[0m \u001b[43m\u001b[49m\u001b[43m)\u001b[49m\n\u001b[1;32m   1715\u001b[0m \u001b[38;5;28;01massert\u001b[39;00m \u001b[38;5;28mself\u001b[39m\u001b[38;5;241m.\u001b[39mhandles \u001b[38;5;129;01mis\u001b[39;00m \u001b[38;5;129;01mnot\u001b[39;00m \u001b[38;5;28;01mNone\u001b[39;00m\n\u001b[1;32m   1716\u001b[0m f \u001b[38;5;241m=\u001b[39m \u001b[38;5;28mself\u001b[39m\u001b[38;5;241m.\u001b[39mhandles\u001b[38;5;241m.\u001b[39mhandle\n",
      "File \u001b[0;32m/opt/conda/lib/python3.11/site-packages/pandas/io/common.py:863\u001b[0m, in \u001b[0;36mget_handle\u001b[0;34m(path_or_buf, mode, encoding, compression, memory_map, is_text, errors, storage_options)\u001b[0m\n\u001b[1;32m    858\u001b[0m \u001b[38;5;28;01melif\u001b[39;00m \u001b[38;5;28misinstance\u001b[39m(handle, \u001b[38;5;28mstr\u001b[39m):\n\u001b[1;32m    859\u001b[0m     \u001b[38;5;66;03m# Check whether the filename is to be opened in binary mode.\u001b[39;00m\n\u001b[1;32m    860\u001b[0m     \u001b[38;5;66;03m# Binary mode does not support 'encoding' and 'newline'.\u001b[39;00m\n\u001b[1;32m    861\u001b[0m     \u001b[38;5;28;01mif\u001b[39;00m ioargs\u001b[38;5;241m.\u001b[39mencoding \u001b[38;5;129;01mand\u001b[39;00m \u001b[38;5;124m\"\u001b[39m\u001b[38;5;124mb\u001b[39m\u001b[38;5;124m\"\u001b[39m \u001b[38;5;129;01mnot\u001b[39;00m \u001b[38;5;129;01min\u001b[39;00m ioargs\u001b[38;5;241m.\u001b[39mmode:\n\u001b[1;32m    862\u001b[0m         \u001b[38;5;66;03m# Encoding\u001b[39;00m\n\u001b[0;32m--> 863\u001b[0m         handle \u001b[38;5;241m=\u001b[39m \u001b[38;5;28;43mopen\u001b[39;49m\u001b[43m(\u001b[49m\n\u001b[1;32m    864\u001b[0m \u001b[43m            \u001b[49m\u001b[43mhandle\u001b[49m\u001b[43m,\u001b[49m\n\u001b[1;32m    865\u001b[0m \u001b[43m            \u001b[49m\u001b[43mioargs\u001b[49m\u001b[38;5;241;43m.\u001b[39;49m\u001b[43mmode\u001b[49m\u001b[43m,\u001b[49m\n\u001b[1;32m    866\u001b[0m \u001b[43m            \u001b[49m\u001b[43mencoding\u001b[49m\u001b[38;5;241;43m=\u001b[39;49m\u001b[43mioargs\u001b[49m\u001b[38;5;241;43m.\u001b[39;49m\u001b[43mencoding\u001b[49m\u001b[43m,\u001b[49m\n\u001b[1;32m    867\u001b[0m \u001b[43m            \u001b[49m\u001b[43merrors\u001b[49m\u001b[38;5;241;43m=\u001b[39;49m\u001b[43merrors\u001b[49m\u001b[43m,\u001b[49m\n\u001b[1;32m    868\u001b[0m \u001b[43m            \u001b[49m\u001b[43mnewline\u001b[49m\u001b[38;5;241;43m=\u001b[39;49m\u001b[38;5;124;43m\"\u001b[39;49m\u001b[38;5;124;43m\"\u001b[39;49m\u001b[43m,\u001b[49m\n\u001b[1;32m    869\u001b[0m \u001b[43m        \u001b[49m\u001b[43m)\u001b[49m\n\u001b[1;32m    870\u001b[0m     \u001b[38;5;28;01melse\u001b[39;00m:\n\u001b[1;32m    871\u001b[0m         \u001b[38;5;66;03m# Binary mode\u001b[39;00m\n\u001b[1;32m    872\u001b[0m         handle \u001b[38;5;241m=\u001b[39m \u001b[38;5;28mopen\u001b[39m(handle, ioargs\u001b[38;5;241m.\u001b[39mmode)\n",
      "\u001b[0;31mFileNotFoundError\u001b[0m: [Errno 2] No such file or directory: 'canadian_social_connection.csv'"
     ]
    }
   ],
   "source": [
    "import pandas as pd\n",
    "import statsmodels.formula.api as smf\n",
    "\n",
    "df = pd.read_csv('canadian_social_connection.csv') \n",
    "\n",
    "additive_model = smf.ols(formula='social_score ~ age + gender', data=df).fit()\n",
    "print(additive_model.summary())\n",
    "#The intercept β0 represents the social_score for males (gender = 0) when age = 0.\n",
    "#β1 indicates the expected change in social_score for each one-unit increase in age, holding gender constant.\n",
    "#β2 represents the change in social_score when gender changes from 0 (male) to 1 (female), with age held constant.\n",
    "\n",
    "\n",
    "interaction_model = smf.ols(formula='social_score ~ age * gender', data=df).fit()\n",
    "print(interaction_model.summary())\n",
    "#β3 is the coefficient for the interaction term age * gender. It measures whether the effect of age on social_score depends on gender.\n",
    "#If this term is statistically significant, it suggests that the relationship between age and social_score changes based on gender.\n",
    "\n",
    "import plotly.express as px\n",
    "\n",
    "\n",
    "df['additive_pred'] = additive_model.predict(df)\n",
    "df['interaction_pred'] = interaction_model.predict(df)\n",
    "\n",
    "fig1 = px.scatter(df, x='age', y='social_score', color='gender', title='Additive Model Fit')\n",
    "fig1.add_scatter(x=df['age'], y=df['additive_pred'], mode='lines', name='Additive Fit')\n",
    "fig1.show()\n",
    "\n",
    "# Plot the additive model\n",
    "\n",
    "fig2 = px.scatter(df, x='age', y='social_score', color='gender', title='Interaction Model Fit')\n",
    "fig2.add_scatter(x=df['age'], y=df['interaction_pred'], mode='lines', name='Interaction Fit')\n",
    "fig2.show()\n",
    "\n",
    "# Plot the interaction model\n"
   ]
  },
  {
   "cell_type": "markdown",
   "id": "1a5edab9",
   "metadata": {},
   "source": [
    "Explanation of the Visualizations\n",
    "Additive Model: The effect of age and gender on social_score is independent. The fitted lines for different genders are parallel, indicating that the slope (impact of age) is the same for both males and females.\n",
    "Interaction Model: The effect of age on social_score changes with gender. The lines may have different slopes, indicating that the relationship between age and social_score varies based on gender."
   ]
  },
  {
   "cell_type": "markdown",
   "id": "6d6ac555",
   "metadata": {},
   "source": [
    "#### 4. Explain the apparent contradiction between the factual statements regarding the fit below that \"the model only explains 17.6% of the variability in the data\" while at the same time \"many of the **coefficients** are larger than 10 while having **strong** or **very strong evidence against** the **null hypothesis** of 'no effect'\"<br>\n",
    "\n",
    "<details class=\"details-example\"><summary style=\"color:blue\"><u>Further Guidance</u></summary>\n",
    "    \n",
    "> *How do we simultaneously interpret **hypothesis testing** results regarding **coefficient estimates** based on **p-values** and **R-squared** \"the proportion of variation in (outcome) $y$ explained by the model ($\\hat y_i$)\"? How can both be meaningfully understood at the same time? Do they address different aspects of a model?*\n",
    ">    \n",
    "> *As introduced in the previous homework, **R-squared** is*\n",
    ">\n",
    "> $$R^2 = 1 - \\frac{\\sum_{i=1}^n(y_i-\\hat y)^2}{\\sum_{i=1}^n(y_i-\\bar y)^2}$$\n",
    ">    \n",
    "> *which describes the **explanatory power** of a model; whereas, **p-values** allow us to characterize **evidence against** a **null hypothesis**, and **coefficients** in a **multiple linear regression** context allow us to interpret the relationship between the **outcome** and a **predictor variable** \"with all other **predictor variable** 'held constant'\". Are these concepts thus contradictory or conflictual in some manner?*\n",
    "\n",
    "|p-value|Evidence|\n",
    "|-|-|\n",
    "|$$p > 0.1$$|No evidence against the null hypothesis|\n",
    "|$$0.1 \\ge p > 0.05$$|Weak evidence against the null hypothesis|\n",
    "|$$0.05 \\ge p > 0.01$$|Moderate evidence against the null hypothesis|\n",
    "|$$0.01 \\ge p > 0.001$$|Strong evidence against the null hypothesis|\n",
    "|$$0.001 \\ge p$$|Very strong evidence against the null hypothesis|\n",
    "    \n",
    "> In `formula='HP ~ Q(\"Sp. Def\") * C(Generation)'` the `Q` stands for \"quote\" and is needed to access column names when they have a \"space\" in their name, while the `C` indicates a **categorical** use of what is actually an **integer** valued column. Despite technically being **continuous** numbers, **integer** often simply indicate categories which should not necessarily be treated as an incremental **continuous predictor variable**. Remember, a model such as $\\beta_0 + \\beta_1 x$ means for each unit increase in $x$ the outcome increases \"on average\" by $\\beta_1$; so, if $x$ takes on the values `1` through `6` as the `Generation` **predictor variable** here does, then this means the average value for \"Generation 1\" must be $\\beta_0 + \\beta_1$ while for \"Generation 2\" it must be $\\beta_0 + 2\\times \\beta_1$ (and so on up to \"Generation 6\" which must be $\\beta_0 + 6\\times \\beta_1$). This might be a very strange restriction to place on something that is really actually a **categorical predictor variable**. You can see in the given model fit below how this six-level **categorical predictor variable** is actually appropriately treated in the specification of the **linear form** using \"Generation 1\" for the \"baseline\" and **binary indicators** to model the \"contrast\" (\"offsets\") for the other \"Generations\"; and, how these are in turn used in the context of the **interaction** considered by the model specification. \n",
    "    \n",
    "</details><br>\n"
   ]
  },
  {
   "cell_type": "markdown",
   "id": "aef58354",
   "metadata": {},
   "source": [
    "The contradiction arises because statistical significance (which is about whether the predictors have an effect) is different from explaining the variability in the data (which relates to how well the predictors collectively account for the variation in the dependent variable). In this case, while the predictors have significant effects, there may be many other factors influencing the outcome that are not included in the model, resulting in a low R-squared.\n",
    "In other words, the predictors might be meaningful on an individual level (based on their large coefficients and statistical significance), but they do not explain much of the overall variance in the dependent variable when considered together in the model."
   ]
  },
  {
   "cell_type": "code",
   "execution_count": 3,
   "id": "ee4ccce6",
   "metadata": {},
   "outputs": [
    {
     "data": {
      "text/html": [
       "<div>\n",
       "<style scoped>\n",
       "    .dataframe tbody tr th:only-of-type {\n",
       "        vertical-align: middle;\n",
       "    }\n",
       "\n",
       "    .dataframe tbody tr th {\n",
       "        vertical-align: top;\n",
       "    }\n",
       "\n",
       "    .dataframe thead th {\n",
       "        text-align: right;\n",
       "    }\n",
       "</style>\n",
       "<table border=\"1\" class=\"dataframe\">\n",
       "  <thead>\n",
       "    <tr style=\"text-align: right;\">\n",
       "      <th></th>\n",
       "      <th>#</th>\n",
       "      <th>Name</th>\n",
       "      <th>Type 1</th>\n",
       "      <th>Type 2</th>\n",
       "      <th>HP</th>\n",
       "      <th>Attack</th>\n",
       "      <th>Defense</th>\n",
       "      <th>Sp. Atk</th>\n",
       "      <th>Sp. Def</th>\n",
       "      <th>Speed</th>\n",
       "      <th>Generation</th>\n",
       "      <th>Legendary</th>\n",
       "    </tr>\n",
       "  </thead>\n",
       "  <tbody>\n",
       "    <tr>\n",
       "      <th>0</th>\n",
       "      <td>1</td>\n",
       "      <td>Bulbasaur</td>\n",
       "      <td>Grass</td>\n",
       "      <td>Poison</td>\n",
       "      <td>45</td>\n",
       "      <td>49</td>\n",
       "      <td>49</td>\n",
       "      <td>65</td>\n",
       "      <td>65</td>\n",
       "      <td>45</td>\n",
       "      <td>1</td>\n",
       "      <td>False</td>\n",
       "    </tr>\n",
       "    <tr>\n",
       "      <th>1</th>\n",
       "      <td>2</td>\n",
       "      <td>Ivysaur</td>\n",
       "      <td>Grass</td>\n",
       "      <td>Poison</td>\n",
       "      <td>60</td>\n",
       "      <td>62</td>\n",
       "      <td>63</td>\n",
       "      <td>80</td>\n",
       "      <td>80</td>\n",
       "      <td>60</td>\n",
       "      <td>1</td>\n",
       "      <td>False</td>\n",
       "    </tr>\n",
       "    <tr>\n",
       "      <th>2</th>\n",
       "      <td>3</td>\n",
       "      <td>Venusaur</td>\n",
       "      <td>Grass</td>\n",
       "      <td>Poison</td>\n",
       "      <td>80</td>\n",
       "      <td>82</td>\n",
       "      <td>83</td>\n",
       "      <td>100</td>\n",
       "      <td>100</td>\n",
       "      <td>80</td>\n",
       "      <td>1</td>\n",
       "      <td>False</td>\n",
       "    </tr>\n",
       "    <tr>\n",
       "      <th>3</th>\n",
       "      <td>3</td>\n",
       "      <td>VenusaurMega Venusaur</td>\n",
       "      <td>Grass</td>\n",
       "      <td>Poison</td>\n",
       "      <td>80</td>\n",
       "      <td>100</td>\n",
       "      <td>123</td>\n",
       "      <td>122</td>\n",
       "      <td>120</td>\n",
       "      <td>80</td>\n",
       "      <td>1</td>\n",
       "      <td>False</td>\n",
       "    </tr>\n",
       "    <tr>\n",
       "      <th>4</th>\n",
       "      <td>4</td>\n",
       "      <td>Charmander</td>\n",
       "      <td>Fire</td>\n",
       "      <td>NaN</td>\n",
       "      <td>39</td>\n",
       "      <td>52</td>\n",
       "      <td>43</td>\n",
       "      <td>60</td>\n",
       "      <td>50</td>\n",
       "      <td>65</td>\n",
       "      <td>1</td>\n",
       "      <td>False</td>\n",
       "    </tr>\n",
       "    <tr>\n",
       "      <th>...</th>\n",
       "      <td>...</td>\n",
       "      <td>...</td>\n",
       "      <td>...</td>\n",
       "      <td>...</td>\n",
       "      <td>...</td>\n",
       "      <td>...</td>\n",
       "      <td>...</td>\n",
       "      <td>...</td>\n",
       "      <td>...</td>\n",
       "      <td>...</td>\n",
       "      <td>...</td>\n",
       "      <td>...</td>\n",
       "    </tr>\n",
       "    <tr>\n",
       "      <th>795</th>\n",
       "      <td>719</td>\n",
       "      <td>Diancie</td>\n",
       "      <td>Rock</td>\n",
       "      <td>Fairy</td>\n",
       "      <td>50</td>\n",
       "      <td>100</td>\n",
       "      <td>150</td>\n",
       "      <td>100</td>\n",
       "      <td>150</td>\n",
       "      <td>50</td>\n",
       "      <td>6</td>\n",
       "      <td>True</td>\n",
       "    </tr>\n",
       "    <tr>\n",
       "      <th>796</th>\n",
       "      <td>719</td>\n",
       "      <td>DiancieMega Diancie</td>\n",
       "      <td>Rock</td>\n",
       "      <td>Fairy</td>\n",
       "      <td>50</td>\n",
       "      <td>160</td>\n",
       "      <td>110</td>\n",
       "      <td>160</td>\n",
       "      <td>110</td>\n",
       "      <td>110</td>\n",
       "      <td>6</td>\n",
       "      <td>True</td>\n",
       "    </tr>\n",
       "    <tr>\n",
       "      <th>797</th>\n",
       "      <td>720</td>\n",
       "      <td>HoopaHoopa Confined</td>\n",
       "      <td>Psychic</td>\n",
       "      <td>Ghost</td>\n",
       "      <td>80</td>\n",
       "      <td>110</td>\n",
       "      <td>60</td>\n",
       "      <td>150</td>\n",
       "      <td>130</td>\n",
       "      <td>70</td>\n",
       "      <td>6</td>\n",
       "      <td>True</td>\n",
       "    </tr>\n",
       "    <tr>\n",
       "      <th>798</th>\n",
       "      <td>720</td>\n",
       "      <td>HoopaHoopa Unbound</td>\n",
       "      <td>Psychic</td>\n",
       "      <td>Dark</td>\n",
       "      <td>80</td>\n",
       "      <td>160</td>\n",
       "      <td>60</td>\n",
       "      <td>170</td>\n",
       "      <td>130</td>\n",
       "      <td>80</td>\n",
       "      <td>6</td>\n",
       "      <td>True</td>\n",
       "    </tr>\n",
       "    <tr>\n",
       "      <th>799</th>\n",
       "      <td>721</td>\n",
       "      <td>Volcanion</td>\n",
       "      <td>Fire</td>\n",
       "      <td>Water</td>\n",
       "      <td>80</td>\n",
       "      <td>110</td>\n",
       "      <td>120</td>\n",
       "      <td>130</td>\n",
       "      <td>90</td>\n",
       "      <td>70</td>\n",
       "      <td>6</td>\n",
       "      <td>True</td>\n",
       "    </tr>\n",
       "  </tbody>\n",
       "</table>\n",
       "<p>800 rows × 12 columns</p>\n",
       "</div>"
      ],
      "text/plain": [
       "       #                   Name   Type 1  Type 2  HP  Attack  Defense  \\\n",
       "0      1              Bulbasaur    Grass  Poison  45      49       49   \n",
       "1      2                Ivysaur    Grass  Poison  60      62       63   \n",
       "2      3               Venusaur    Grass  Poison  80      82       83   \n",
       "3      3  VenusaurMega Venusaur    Grass  Poison  80     100      123   \n",
       "4      4             Charmander     Fire     NaN  39      52       43   \n",
       "..   ...                    ...      ...     ...  ..     ...      ...   \n",
       "795  719                Diancie     Rock   Fairy  50     100      150   \n",
       "796  719    DiancieMega Diancie     Rock   Fairy  50     160      110   \n",
       "797  720    HoopaHoopa Confined  Psychic   Ghost  80     110       60   \n",
       "798  720     HoopaHoopa Unbound  Psychic    Dark  80     160       60   \n",
       "799  721              Volcanion     Fire   Water  80     110      120   \n",
       "\n",
       "     Sp. Atk  Sp. Def  Speed  Generation  Legendary  \n",
       "0         65       65     45           1      False  \n",
       "1         80       80     60           1      False  \n",
       "2        100      100     80           1      False  \n",
       "3        122      120     80           1      False  \n",
       "4         60       50     65           1      False  \n",
       "..       ...      ...    ...         ...        ...  \n",
       "795      100      150     50           6       True  \n",
       "796      160      110    110           6       True  \n",
       "797      150      130     70           6       True  \n",
       "798      170      130     80           6       True  \n",
       "799      130       90     70           6       True  \n",
       "\n",
       "[800 rows x 12 columns]"
      ]
     },
     "execution_count": 3,
     "metadata": {},
     "output_type": "execute_result"
    }
   ],
   "source": [
    "import pandas as pd\n",
    "\n",
    "url = \"https://raw.githubusercontent.com/KeithGalli/pandas/master/pokemon_data.csv\"\n",
    "# fail https://github.com/KeithGalli/pandas/blob/master/pokemon_data.csv\n",
    "pokeaman = pd.read_csv(url) \n",
    "pokeaman"
   ]
  },
  {
   "cell_type": "code",
   "execution_count": null,
   "id": "4d4a80b7",
   "metadata": {},
   "outputs": [],
   "source": [
    "import statsmodels.formula.api as smf\n",
    "\n",
    "model1_spec = smf.ols(formula='HP ~ Q(\"Sp. Def\") + C(Generation)', data=pokeaman)\n",
    "model2_spec = smf.ols(formula='HP ~ Q(\"Sp. Def\") + C(Generation) + Q(\"Sp. Def\"):C(Generation)', data=pokeaman)\n",
    "model2_spec = smf.ols(formula='HP ~ Q(\"Sp. Def\") * C(Generation)', data=pokeaman)\n",
    "\n",
    "model2_fit = model2_spec.fit()\n",
    "model2_fit.summary()"
   ]
  },
  {
   "cell_type": "markdown",
   "id": "614675a5",
   "metadata": {},
   "source": [
    "<details class=\"details-example\"><summary style=\"color:blue\"><u>Continue now...?</u></summary>\n",
    "\n",
    "### Pre-lecture VS Post-lecture HW\n",
    "    \n",
    "Feel free to work on the \"Postlecture\" HW below if you're making good progress and want to continue: in this case the \"Post-lecture\" HW just builds on the \"Post-lecture\" HW, introducing and extending the considerations available in the **multiple linear regression context**. That said, as \"question 3\" above hopefully suggests and reminds you, the **course project** is well upon us, and prioritizing work on that (even over the homework) may very well be indicated at this point...\n",
    "\n",
    "*The benefits of continue would are that (a) it might be fun to try to tackle the challenge of working through some problems without additional preparation or guidance; and (b) this is a very valable skill to be comfortable with; and (c) it will let you build experience interacting with ChatBots (and beginning to understand their strengths and limitations in this regard)... it's good to have sense of when using a ChatBot is the best way to figure something out, or if another approach (such as course provided resources or a plain old websearch for the right resourse) would be more effective*\n",
    "    \n",
    "</details>    \n"
   ]
  },
  {
   "cell_type": "markdown",
   "id": "3a392bc2",
   "metadata": {},
   "source": [
    "## \"Post-lecture\" HW [*submission along with \"Pre-lecture\" HW is due prior to next TUT*]\n"
   ]
  },
  {
   "cell_type": "markdown",
   "id": "51edb40a",
   "metadata": {},
   "source": [
    "#### 5. Discuss the following (five cells of) code and results with a ChatBot and based on the understanding you arrive at in this conversation explain what the following (five cells of) are illustrating<br>\n",
    "\n",
    "<details class=\"details-example\"><summary style=\"color:blue\"><u>Further Guidance</u></summary>\n",
    "    \n",
    "> *Recall from the previous week's homework that the **R-squared** \"the proportion of variation in (outcome) $y$ explained by the model ($\\hat y_i$)\" quantity (re-introduced in the previous problem) can be calculated as `np.corrcoef(y,fitted_model.fittedvalues)[0,1]**2` (as well as several other ways in the **simple linear regression** context). The **squared correlation** between the outcome $y$ and it's **fitted values** $\\hat y$ is the most generally useful formulation of **R-squared** since this can be use in the **multiple linear regression** context.*\n",
    "> \n",
    "> *This question address the question of model **generalizability** on the basis of \"in sample\" and \"out of sample\" **model performance** (measured by **R-squared**).*\n",
    "> \n",
    "> - The **squared correlation** between the **outcomes** $y$ and their **fitted values** $\\hat y$ is an \"in sample\" **model performance** metric since the $\\hat y$ \"predictions\" for the $y$ **outcomes** are based on using those already **observed outcomes** to fit the model to generate the $\\hat y$.  \n",
    "> \n",
    "> - If we instead calculate **squared correlation** between **outcomes** $y$ that were not used to fit the model and their corresponding $\\hat y$ **predictions** (which are indeed now actually **predictions** as opposed to **fitted values**), then we are now  calculating an \"out of sample\" **model performance** metric.\n",
    "> \n",
    "> *When an \"out of sample\" metric performs more poorly than a comparitive \"in sample\" metric, then the **predictions** of the **fitted model** are not **generalizing** to data being the dataset the model is fit on. In this case we say the model is **overfit**. The purpose of using different **training** and **testing** datasets is to consider \"in sample\" versus \"out of sample\" **model performance** in order to try to confirm that the model is not **overfit** and that the **predictions** do indeed seem to **generalizable** beyond the dataset used for **model fitting**.*\n",
    "\n",
    "</details>"
   ]
  },
  {
   "cell_type": "code",
   "execution_count": null,
   "id": "f4dd90ac",
   "metadata": {},
   "outputs": [],
   "source": [
    "import numpy as np\n",
    "from sklearn.model_selection import train_test_split\n",
    "\n",
    "fifty_fifty_split_size = int(pokeaman.shape[0]*0.5)\n",
    "\n",
    "# Replace \"NaN\" (in the \"Type 2\" column with \"None\")\n",
    "pokeaman.fillna('None', inplace=True)\n",
    "\n",
    "np.random.seed(130)\n",
    "pokeaman_train,pokeaman_test = \\\n",
    "  train_test_split(pokeaman, train_size=fifty_fifty_split_size)\n",
    "pokeaman_train\n"
   ]
  },
  {
   "cell_type": "markdown",
   "id": "b8a8643c",
   "metadata": {},
   "source": [
    "This block reads in the Pokemon dataset and splits it into training and testing sets. The train_test_split function splits the data into two parts, with 50% allocated to the training set. Additionally, any missing values in the \"Type 2\" column are replaced with 'None'."
   ]
  },
  {
   "cell_type": "code",
   "execution_count": null,
   "id": "69a8b379",
   "metadata": {},
   "outputs": [],
   "source": [
    "model_spec3 = smf.ols(formula='HP ~ Attack + Defense', \n",
    "                      data=pokeaman_train)\n",
    "model3_fit = model_spec3.fit()\n",
    "model3_fit.summary()"
   ]
  },
  {
   "cell_type": "markdown",
   "id": "9776071c",
   "metadata": {},
   "source": [
    "A simple linear regression model is specified with HP as the dependent variable, and Attack and Defense as independent variables. The model is fitted using the training data (pokeaman_train), and the summary provides statistical details of the model."
   ]
  },
  {
   "cell_type": "code",
   "execution_count": null,
   "id": "d07c5ff1",
   "metadata": {},
   "outputs": [],
   "source": [
    "yhat_model3 = model3_fit.predict(pokeaman_test)\n",
    "y = pokeaman_test.HP\n",
    "print(\"'In sample' R-squared:    \", model3_fit.rsquared)\n",
    "print(\"'Out of sample' R-squared:\", np.corrcoef(y,yhat_model3)[0,1]**2)"
   ]
  },
  {
   "cell_type": "markdown",
   "id": "c0e31e86",
   "metadata": {},
   "source": [
    "This block calculates the 'in-sample' R-squared (model fit on training data) and 'out-of-sample' R-squared (model performance on test data). The np.corrcoef function is used to compute the correlation between actual and predicted values, and squared to obtain R-squared."
   ]
  },
  {
   "cell_type": "code",
   "execution_count": null,
   "id": "3cfa038c",
   "metadata": {
    "scrolled": true
   },
   "outputs": [],
   "source": [
    "model4_linear_form = 'HP ~ Attack * Defense * Speed * Legendary'\n",
    "model4_linear_form += ' * Q(\"Sp. Def\") * Q(\"Sp. Atk\")'\n",
    "# DO NOT try adding '* C(Generation) * C(Q(\"Type 1\")) * C(Q(\"Type 2\"))'\n",
    "# That's 6*18*19 = 6*18*19 possible interaction combinations...\n",
    "# ...a huge number that will blow up your computer\n",
    "\n",
    "model4_spec = smf.ols(formula=model4_linear_form, data=pokeaman_train)\n",
    "model4_fit = model4_spec.fit()\n",
    "model4_fit.summary()"
   ]
  },
  {
   "cell_type": "markdown",
   "id": "8bbe4702",
   "metadata": {},
   "source": [
    "A more complex model is created that includes interaction terms between multiple variables: Attack, Defense, Speed, Legendary, and others. This model attempts to capture more intricate relationships between the features and HP. The model is fitted to the training data."
   ]
  },
  {
   "cell_type": "code",
   "execution_count": null,
   "id": "61d225cb",
   "metadata": {},
   "outputs": [],
   "source": [
    "yhat_model4 = model4_fit.predict(pokeaman_test)\n",
    "y = pokeaman_test.HP\n",
    "print(\"'In sample' R-squared:    \", model4_fit.rsquared)\n",
    "print(\"'Out of sample' R-squared:\", np.corrcoef(y,yhat_model4)[0,1]**2)"
   ]
  },
  {
   "cell_type": "markdown",
   "id": "7c331baf",
   "metadata": {},
   "source": [
    "Similar to Block 3, this block computes the 'in-sample' and 'out-of-sample' R-squared for the more complex model with interaction terms. It evaluates how well the model generalizes to unseen data."
   ]
  },
  {
   "cell_type": "markdown",
   "id": "7a131a8e",
   "metadata": {},
   "source": [
    "https://chatgpt.com/share/6736c88a-fb04-800f-9483-4e1a5fde13e4"
   ]
  },
  {
   "cell_type": "markdown",
   "id": "deecc5b7",
   "metadata": {},
   "source": [
    "#### 6. Work with a ChatBot to understand how the `model4_linear_form` (**linear form** specification of  `model4`) creates new **predictor variables** as the columns of the so-called \"design matrix\" `model4_spec.exog` (`model4_spec.exog.shape`) used to predict the **outcome variable**  `model4_spec.endog` and why the so-called **multicollinearity** in this \"design matrix\" (observed in `np.corrcoef(model4_spec.exog)`) contribues to the lack of \"out of sample\" **generalization** of **predictions** from `model4_fit`; then, explain this consisely in your own works<br>\n",
    "\n",
    "<details class=\"details-example\"><summary style=\"color:blue\"><u>Further Guidance</u></summary>\n",
    "\n",
    "> *The **overfitting** observed in the previous problem is a question of **model complexity** relative to the amount of information or evidence available in a given dataset (or we could just say \"the amount of data in a dataset\"). The **model fit** for  `model4` resulted in an **overfit model** because the specification of its **linear form** was overly complex (relative to the the amount of available data). Indeed, `model4` is rediculously complex as can be seen from `model4_fit.summary()`. This in turn allowed the **model fit** to \"detect\" idiosyncratic associations spuriously present specifically in the **training** dataset but which did not **generalize** to the **testing** dataset. If a model is too **complex** then it will find and model \"patterns\" in a **training** dataset which are actually just accidental \"noise\" from the random sampling nature of the dataset. The simpler (or more parsimoneous) `model3` on the other hand was able to identify **predictive associations** in the **training** dataset which did **generalize** to the **testing** dataset. This is because `model3` only sought to understand simpler **predictive association** for which there was enough data in the **training** dataset to reliably detect and obviously identify. And these patterns were indeed sufficiently \"real\" in the sense that they were present and **generalized** into the **testing** dataset as well as the **training** dataset. So they could be \"found\" in the **training** and then used in (**generalized** to) the **testing** dataset.*\n",
    "> \n",
    "> *This question therefore addresses the topic of the **evidence** a given dataset provides for the **predictive associations** detected by a **fitted model**. It should be increasingly clear at this point that this can be addressed using **coefficent hypothesis testing** in the context of **multiple linear regression**, and that examinations of \"in sample\" versus \"out of sample\" **model performance** metrics directly address the question of **generalizability**. However, the this question introduces another consideration of **multicollinearity** that affects the **generalizability** of **model fits** in the **multiple linear regression** context. A good question that a ChatBot could help you understand is (a) \"why is **generalizability** more uncertain if two **predictor variables** are highly **correlated**?\" and (b) \"why is **generalizability** more uncertain if multiple **predictor variables** are highly **multicollinear**?\"*\n",
    ">\n",
    "> *The four code cells below are not necessary for answering this question; however, they introduce two very practical helpful tools for the **multiple linear regression** context that are immediately relevant for this question. The first is the so-called **condition number** (of a \"design matrix\") which provides a very simple diagnostic to measure the degree of **multicollinearity** that is present in a **model fit**. If this number is \"very large\" then there is a large degree of **multicollinearity** and suggests room for doubt regarding the **generalizability** of the **fitted model**. The second tool(s) are the `center` and `scale` functions. It is best practice to \"center and scale\" **continuous predictor variables** (but not **indicator variables**) in the **multiple linear regression** context as is done below (and in many other modelling contexts which you may encounter in the future as well). While \"centering and scaling\" does make interpreting the predictions on the original scale of the data slighly more complicated, it also must be done in order to get a true evaluation of the degree of **multicollinearity** present in a **model fit** using the **condition number** of the model (\"design matrix\"). The examples below show that the **condition number** reported by a **fitted model** are \"artificially inflacted\" if \"centering and scaling\" is not used. Specically, they show that the **condition number** of `model3_fit` is really `1.66` (as opposed to the \"very large\" `343` which is reported without \"centering and scaling\"); whereas, the **condition number** for `model4_fit` is \"very (VERY) large\" irrespective of \"centering and scaling\", showing that the overwheling presense of **multicollinearity** in `model4_fit`.  Indeed, we have already seen that `model4_fit` is grossly **overfit** and does not remotely **generalize** beyond its **training** dataset. Without knowing this, however, the comically large **condition number** for `model4_fit` (after \"centering and scaling\") makes it abundantly clear that we should have great doubts about the likely **generalizability** of `model4_fit` (even without examining specific aspects of **multicollinearity** directly or examining \"in sample\" versus \"out of sample\" **model performance** comparisions).* \n",
    ">\n",
    "> - The \"specific aspects of **multicollinearity**\" reference above refer to understanding and attributing the detrmimental affects of specific **predictor variables** towards **multicollinearity**. This can be done using so-called **variance inflation factors**, but this is beyond the scope of STA130. We should be aware that the presence of excessive **multicollinearity** as indicated by a large **condition number** for a (\"centered and scaled\") **fitted model** raises grave concerns regarding the potential **generalizability** of the model.\n",
    ">\n",
    "> The `np.corrcoef(model4_spec.exog)` examination of the **correlations** of a \"design matrix\" considered in ths problems prompt is analogous to the examination of the **correlations** present in a dataset that might considered when initially examining the **predictor variables** of a dataset, such as `pokeaman.iloc[:,4:12].corr()`. Indeed, such an examination is often the first step in examining the potential presence of **multicollinearity** among the **predictor variables** of a dataset. However, these are consideration of **pairwise correlation**, whereas **multicollinearity** generalizes this notion to the full collection of **predictor variables** together. A **condition number** for a \"centered and scale\" version of a **fit model** can therefore be viewed as serving the analogous purposes of a multivariate generalization of **pairwise correlation**.\n",
    "\n",
    "</details>\n"
   ]
  },
  {
   "cell_type": "code",
   "execution_count": null,
   "id": "66dd4227",
   "metadata": {},
   "outputs": [],
   "source": [
    "# \"Cond. No.\" WAS 343.0 WITHOUT to centering and scaling\n",
    "model3_fit.summary() "
   ]
  },
  {
   "cell_type": "code",
   "execution_count": null,
   "id": "dedf01b2",
   "metadata": {
    "scrolled": true
   },
   "outputs": [],
   "source": [
    "from patsy import center, scale\n",
    "\n",
    "model3_linear_form_center_scale = \\\n",
    "  'HP ~ scale(center(Attack)) + scale(center(Defense))' \n",
    "model_spec3_center_scale = smf.ols(formula=model3_linear_form_center_scale,\n",
    "                                   data=pokeaman_train)\n",
    "model3_center_scale_fit = model_spec3_center_scale.fit()\n",
    "model3_center_scale_fit.summary()\n",
    "# \"Cond. No.\" is NOW 1.66 due to centering and scaling"
   ]
  },
  {
   "cell_type": "code",
   "execution_count": null,
   "id": "8cb64e94",
   "metadata": {},
   "outputs": [],
   "source": [
    "model4_linear_form_CS = 'HP ~ scale(center(Attack)) * scale(center(Defense))'\n",
    "model4_linear_form_CS += ' * scale(center(Speed)) * Legendary' \n",
    "model4_linear_form_CS += ' * scale(center(Q(\"Sp. Def\"))) * scale(center(Q(\"Sp. Atk\")))'\n",
    "# Legendary is an indicator, so we don't center and scale that\n",
    "\n",
    "model4_CS_spec = smf.ols(formula=model4_linear_form_CS, data=pokeaman_train)\n",
    "model4_CS_fit = model4_CS_spec.fit()\n",
    "model4_CS_fit.summary().tables[-1]  # Cond. No. is 2,250,000,000,000,000\n",
    "\n",
    "# The condition number is still bad even after centering and scaling"
   ]
  },
  {
   "cell_type": "code",
   "execution_count": null,
   "id": "f5f19d12",
   "metadata": {},
   "outputs": [],
   "source": [
    "# Just as the condition number was very bad to start with\n",
    "model4_fit.summary().tables[-1]  # Cond. No. is 12,000,000,000,000,000\n"
   ]
  },
  {
   "cell_type": "code",
   "execution_count": 5,
   "id": "8b34757b",
   "metadata": {
    "collapsed": true
   },
   "outputs": [
    {
     "ename": "NameError",
     "evalue": "name 'pokeaman_train' is not defined",
     "output_type": "error",
     "traceback": [
      "\u001b[0;31m---------------------------------------------------------------------------\u001b[0m",
      "\u001b[0;31mNameError\u001b[0m                                 Traceback (most recent call last)",
      "Cell \u001b[0;32mIn[5], line 11\u001b[0m\n\u001b[1;32m      8\u001b[0m model4_linear_form_CS \u001b[38;5;241m+\u001b[39m\u001b[38;5;241m=\u001b[39m \u001b[38;5;124m'\u001b[39m\u001b[38;5;124m * scale(center(Q(\u001b[39m\u001b[38;5;124m\"\u001b[39m\u001b[38;5;124mSp. Def\u001b[39m\u001b[38;5;124m\"\u001b[39m\u001b[38;5;124m))) * scale(center(Q(\u001b[39m\u001b[38;5;124m\"\u001b[39m\u001b[38;5;124mSp. Atk\u001b[39m\u001b[38;5;124m\"\u001b[39m\u001b[38;5;124m)))\u001b[39m\u001b[38;5;124m'\u001b[39m\n\u001b[1;32m     10\u001b[0m \u001b[38;5;66;03m# Define the model specification for model4 with centered and scaled predictors\u001b[39;00m\n\u001b[0;32m---> 11\u001b[0m model4_CS_spec \u001b[38;5;241m=\u001b[39m smf\u001b[38;5;241m.\u001b[39mols(formula\u001b[38;5;241m=\u001b[39mmodel4_linear_form_CS, data\u001b[38;5;241m=\u001b[39m\u001b[43mpokeaman_train\u001b[49m)\n\u001b[1;32m     13\u001b[0m \u001b[38;5;66;03m# Fit the model\u001b[39;00m\n\u001b[1;32m     14\u001b[0m model4_CS_fit \u001b[38;5;241m=\u001b[39m model4_CS_spec\u001b[38;5;241m.\u001b[39mfit()\n",
      "\u001b[0;31mNameError\u001b[0m: name 'pokeaman_train' is not defined"
     ]
    }
   ],
   "source": [
    "import statsmodels.formula.api as smf\n",
    "import numpy as np\n",
    "from patsy import center, scale\n",
    "\n",
    "# Define the linear form for model4 with scaling and centering\n",
    "model4_linear_form_CS = 'HP ~ scale(center(Attack)) * scale(center(Defense))'\n",
    "model4_linear_form_CS += ' * scale(center(Speed)) * Legendary'\n",
    "model4_linear_form_CS += ' * scale(center(Q(\"Sp. Def\"))) * scale(center(Q(\"Sp. Atk\")))'\n",
    "\n",
    "# Define the model specification for model4 with centered and scaled predictors\n",
    "model4_CS_spec = smf.ols(formula=model4_linear_form_CS, data=pokeaman_train)\n",
    "\n",
    "# Fit the model\n",
    "model4_CS_fit = model4_CS_spec.fit()\n",
    "\n",
    "# Show the model summary\n",
    "print(model4_CS_fit.summary())\n",
    "\n",
    "# Check the condition number of the design matrix (exog)\n",
    "condition_number = np.linalg.cond(model4_CS_spec.exog)\n",
    "print(f\"Condition Number: {condition_number}\")\n",
    "\n",
    "# Check the correlations of the design matrix to identify multicollinearity\n",
    "correlation_matrix = np.corrcoef(model4_CS_spec.exog.T)\n",
    "print(\"Correlation Matrix of Design Matrix (Exog):\")\n",
    "print(correlation_matrix)\n",
    "\n",
    "# Summary of the fit for reference\n",
    "model4_fit_summary = model4_CS_fit.summary().tables[-1]\n",
    "print(\"Model4 Fit Summary:\", model4_fit_summary)\n"
   ]
  },
  {
   "cell_type": "markdown",
   "id": "e06096f2",
   "metadata": {},
   "source": [
    "The \"condition number\" of a model indicates the level of multicollinearity between predictors. A high condition number suggests instability in the model, and that the predictor variables are highly correlated, making it hard for the model to estimate the effects of each variable independently. Scaling and centering the predictors helps with numerical stability, but doesn't necessarily fix the multicollinearity issue. To handle multicollinearity, strategies like removing correlated variables, combining them, or using regularization techniques like Ridge or Lasso regression should be considered to improve model generalization."
   ]
  },
  {
   "cell_type": "markdown",
   "id": "79421d0f",
   "metadata": {},
   "source": [
    "https://chatgpt.com/share/6736ce01-8d2c-800f-81f9-c75fb424ccd7"
   ]
  },
  {
   "cell_type": "markdown",
   "id": "a577c7dd",
   "metadata": {},
   "source": [
    "#### 7. Discuss with a ChatBot the rationale and principles by which `model5_linear_form` is  extended and developed from `model3_fit` and `model4_fit`; `model6_linear_form` is  extended and developed from `model5_linear_form`; and `model7_linear_form` is  extended and developed from `model6_linear_form`; then, explain this breifly and consisely in your own words<br>\n",
    "\n",
    "<details class=\"details-example\"><summary style=\"color:blue\"><u>Further Guidance</u></summary>\n",
    "\n",
    "> *We again include the **condition number** for the \"centered and scaled\" version of `model7_fit` to show that **multicollinearity** does not appear to be a major concern for this model (and the same would be true regarding `model6_fit` if the analogous \"centered and scaled\" version of the model was considered). While it is true that the **condition number** of `15.4` observed for `model7_fit` is perhaps \"large\", this would not be considered \"vary large\".*\n",
    ">\n",
    "> - Regarding **condition numbers**, a ChatBot gave me cutoffs of `<30` not a big problem, up to `<30` maybe an issue, up to `<1000` definitely **multicollinearity**, and beyond that is pretty much likely to be \"serious\" problems with **multicollinearity**. Personally, cutoffs around `10`, `100`, and `1000` seem about right to me.\n",
    ">\n",
    "> *This question addresses the **model building** exercise using both an **evidence** based approach using **coefficient hypothesis testing** as well as examinations of **generalizability** using comparisions of \"in sample\" versus \"out of sample\" **model performance** metrics. Through these tools, different models were considered, extended, and developed, finally arriving at `model7_fit`. When we feel we can improve the **model performance** in a **generalizable** manner, then all relatively underperforming models are said to be **underfit**, meaning that they do not leverage all the **predictive associations** available to improve **predictions**.*\n",
    "> \n",
    "> *While the previous \"Question 6\" above introduced and explored the impact of **multicollinearity** in the **multiple linear regression** context (whereby multiple **predictor variables** are \"tangled up\" and therefore do not allow the model to reliably determine contribution attributions between the **predictor variables**, which potentially leads to poor **estimation** of their \"effects\" in the model, which in turn is the problematic state of affairs which leads to a lack of **generalizability** in such high **multicollinearity** settings), there is still the (actually even more important) consideration of the actual **evidence** of **predictive assocaitions**. The question is whether or not there is sufficient **evidence** in the data backing up the **estimated** fit of the **linear form** specification. Quantifying the **evidence** for a **estimated** model is a separate question from the problem of **multicollinearity**, the assessment of which is actually the primary purpose of **multiple linear regression** methodology. \n",
    "\n",
    "</details>    "
   ]
  },
  {
   "cell_type": "code",
   "execution_count": null,
   "id": "e5486d44",
   "metadata": {
    "scrolled": true
   },
   "outputs": [],
   "source": [
    "# Here's something a little more reasonable...\n",
    "model5_linear_form = 'HP ~ Attack + Defense + Speed + Legendary'\n",
    "model5_linear_form += ' + Q(\"Sp. Def\") + Q(\"Sp. Atk\")'\n",
    "model5_linear_form += ' + C(Generation) + C(Q(\"Type 1\")) + C(Q(\"Type 2\"))'\n",
    "\n",
    "model5_spec = smf.ols(formula=model5_linear_form, data=pokeaman_train)\n",
    "model5_fit = model5_spec.fit()\n",
    "model5_fit.summary()"
   ]
  },
  {
   "cell_type": "code",
   "execution_count": null,
   "id": "0a0dc7f1",
   "metadata": {},
   "outputs": [],
   "source": [
    "yhat_model5 = model5_fit.predict(pokeaman_test)\n",
    "y = pokeaman_test.HP\n",
    "print(\"'In sample' R-squared:    \", model5_fit.rsquared)\n",
    "print(\"'Out of sample' R-squared:\", np.corrcoef(y,yhat_model5)[0,1]**2)"
   ]
  },
  {
   "cell_type": "code",
   "execution_count": null,
   "id": "eea79d60",
   "metadata": {},
   "outputs": [],
   "source": [
    "# Here's something a little more reasonable...\n",
    "model6_linear_form = 'HP ~ Attack + Speed + Q(\"Sp. Def\") + Q(\"Sp. Atk\")'\n",
    "# And here we'll add the significant indicators from the previous model\n",
    "# https://chatgpt.com/share/81ab88df-4f07-49f9-a44a-de0cfd89c67c\n",
    "model6_linear_form += ' + I(Q(\"Type 1\")==\"Normal\")'\n",
    "model6_linear_form += ' + I(Q(\"Type 1\")==\"Water\")'\n",
    "model6_linear_form += ' + I(Generation==2)'\n",
    "model6_linear_form += ' + I(Generation==5)'\n",
    "\n",
    "model6_spec = smf.ols(formula=model6_linear_form, data=pokeaman_train)\n",
    "model6_fit = model6_spec.fit()\n",
    "model6_fit.summary()"
   ]
  },
  {
   "cell_type": "code",
   "execution_count": null,
   "id": "d91abe7f",
   "metadata": {},
   "outputs": [],
   "source": [
    "yhat_model6 = model6_fit.predict(pokeaman_test)\n",
    "y = pokeaman_test.HP\n",
    "print(\"'In sample' R-squared:    \", model6_fit.rsquared)\n",
    "print(\"'Out of sample' R-squared:\", np.corrcoef(y,yhat_model6)[0,1]**2)"
   ]
  },
  {
   "cell_type": "code",
   "execution_count": null,
   "id": "210a2353",
   "metadata": {},
   "outputs": [],
   "source": [
    "# And here's a slight change that seems to perhaps improve prediction...\n",
    "model7_linear_form = 'HP ~ Attack * Speed * Q(\"Sp. Def\") * Q(\"Sp. Atk\")'\n",
    "model7_linear_form += ' + I(Q(\"Type 1\")==\"Normal\")'\n",
    "model7_linear_form += ' + I(Q(\"Type 1\")==\"Water\")'\n",
    "model7_linear_form += ' + I(Generation==2)'\n",
    "model7_linear_form += ' + I(Generation==5)'\n",
    "\n",
    "model7_spec = smf.ols(formula=model7_linear_form, data=pokeaman_train)\n",
    "model7_fit = model7_spec.fit()\n",
    "model7_fit.summary()"
   ]
  },
  {
   "cell_type": "code",
   "execution_count": null,
   "id": "f3b677e4",
   "metadata": {},
   "outputs": [],
   "source": [
    "yhat_model7 = model7_fit.predict(pokeaman_test)\n",
    "y = pokeaman_test.HP\n",
    "print(\"'In sample' R-squared:    \", model7_fit.rsquared)\n",
    "print(\"'Out of sample' R-squared:\", np.corrcoef(y,yhat_model7)[0,1]**2)"
   ]
  },
  {
   "cell_type": "code",
   "execution_count": null,
   "id": "feeb1ab4",
   "metadata": {},
   "outputs": [],
   "source": [
    "# And here's a slight change that seems to perhas improve prediction...\n",
    "model7_linear_form_CS = 'HP ~ scale(center(Attack)) * scale(center(Speed))'\n",
    "model7_linear_form_CS += ' * scale(center(Q(\"Sp. Def\"))) * scale(center(Q(\"Sp. Atk\")))'\n",
    "# We DO NOT center and scale indicator variables\n",
    "model7_linear_form_CS += ' + I(Q(\"Type 1\")==\"Normal\")'\n",
    "model7_linear_form_CS += ' + I(Q(\"Type 1\")==\"Water\")'\n",
    "model7_linear_form_CS += ' + I(Generation==2)'\n",
    "model7_linear_form_CS += ' + I(Generation==5)'\n",
    "\n",
    "model7_CS_spec = smf.ols(formula=model7_linear_form_CS, data=pokeaman_train)\n",
    "model7_CS_fit = model7_CS_spec.fit()\n",
    "model7_CS_fit.summary().tables[-1] \n",
    "# \"Cond. No.\" is NOW 15.4 due to centering and scaling"
   ]
  },
  {
   "cell_type": "code",
   "execution_count": null,
   "id": "821a61e3",
   "metadata": {},
   "outputs": [],
   "source": [
    "# \"Cond. No.\" WAS 2,340,000,000 WITHOUT to centering and scaling\n",
    "model7_fit.summary().tables[-1]"
   ]
  },
  {
   "cell_type": "markdown",
   "id": "420be6a6",
   "metadata": {},
   "source": [
    "Through the development of models 5, 6, and 7, each model progressively builds on the previous one by adding or refining predictors to improve prediction accuracy. Model 5 extends Model 3 by including more variables such as Attack, Defense, Speed, and categorical variables like Generation and Type. Model 6 further refines this by focusing on the most significant predictors and adding indicator variables for specific Pokémon types and generations. Model 7 builds on Model 6 by introducing interactions between key predictors and incorporating centering and scaling to improve model stability and reduce multicollinearity. Overall, these models demonstrate how careful selection and interaction of variables can improve predictions while managing numerical challenges like multicollinearity."
   ]
  },
  {
   "cell_type": "markdown",
   "id": "1bbbf01d",
   "metadata": {},
   "source": [
    "#### 8. Work with a ChatBot to write a `for` loop to create, collect, and visualize many different paired \"in sample\" and \"out of sample\" **model performance** metric actualizations (by not using `np.random.seed(130)` within each loop iteration); and explain in your own words the meaning of your results and purpose of this demonstration<br>\n",
    "\n",
    "<details class=\"details-example\"><summary style=\"color:blue\"><u>Further Guidance</u></summary>\n",
    "    \n",
    "The following code could likely be slightly edited and repurposed to match the 50-50 **train-test split** analysis and data above.  Considering the behavior of the `model3_fit` **linear form** specification would be the suggested way to start, but it might also be helpful to consdier the different available **linear form** specifications to be considered in the manner of this problem...\n",
    "    \n",
    "```python\n",
    "import plotly.express as px  # etc.\n",
    "\n",
    "songs_training_data,songs_testing_data = train_test_split(songs, train_size=31)\n",
    "linear_form = 'danceability ~ energy * loudness + energy * mode'\n",
    "    \n",
    "reps = 100\n",
    "in_sample_Rsquared = np.array([0.0]*reps)\n",
    "out_of_sample_Rsquared = np.array([0.0]*reps)\n",
    "for i in range(reps):\n",
    "    songs_training_data,songs_testing_data = \\\n",
    "      train_test_split(songs, train_size=31)\n",
    "    final_model_fit = smf.ols(formula=linear_form, \n",
    "                              data=songs_training_data).fit()\n",
    "    in_sample_Rsquared[i] = final_model_fit.rsquared\n",
    "    out_of_sample_Rsquared[i] = \\\n",
    "      np.corrcoef(songs_testing_data.danceability, \n",
    "                  final_model_fit.predict(songs_testing_data))[0,1]**2\n",
    "    \n",
    "df = pd.DataFrame({\"In Sample Performance (Rsquared)\": in_sample_Rsquared,\n",
    "                   \"Out of Sample Performance (Rsquared)\": out_of_sample_Rsquared})    \n",
    "fig = px.scatter(df, x=\"In Sample Performance (Rsquared)\", \n",
    "                     y=\"Out of Sample Performance (Rsquared)\")\n",
    "fig.add_trace(go.Scatter(x=[0,1], y=[0,1], name=\"y=x\", line_shape='linear'))  \n",
    "```\n",
    "\n",
    "When you first look at this question, you might be unsure about the specific issue that the code is addressing. Take a moment to think about why the code repeatedly randomly re-splits the data, fits the model, and compares the \"in sample\" versus \"out of sample\" **R-squared** values (over and over). Of course, if a **fit model** performs well on the **training** dataset but doesn't do as well on the **testing** dataset then we might be observing the affects of **overfitting**. But why might it sometimes be the opposite situation (which we actually encountered right away for `model3_fit` when the **train-test split** was based on  `np.random.seed(130)` and resulted in a better \"out of sample\" **R-squared** of about `0.21` vereses the 'in-sample\" **R-squared** of about `0.15`)? If you're thinking that this should therefore vice-versa intuitively mean **underfitting**, actually that's not right because **underfitting** is when the **generalizability** of a different model **linear form** specification that provides improved **model performance** is **validated**. What were seeing here, the variable, is something else...\n",
    "        \n",
    "</details>\n",
    "    "
   ]
  },
  {
   "cell_type": "code",
   "execution_count": null,
   "id": "0b35bb17",
   "metadata": {},
   "outputs": [],
   "source": [
    "import numpy as np\n",
    "import pandas as pd\n",
    "import plotly.express as px\n",
    "import plotly.graph_objects as go\n",
    "from sklearn.model_selection import train_test_split\n",
    "import statsmodels.formula.api as smf\n",
    "\n",
    "# Assuming 'songs' is the dataset\n",
    "songs_training_data, songs_testing_data = train_test_split(songs, train_size=31)\n",
    "linear_form = 'danceability ~ energy * loudness + energy * mode'\n",
    "\n",
    "# Initialize arrays to store R-squared values\n",
    "reps = 100\n",
    "in_sample_Rsquared = np.array([0.0] * reps)\n",
    "out_of_sample_Rsquared = np.array([0.0] * reps)\n",
    "\n",
    "# Loop to perform repeated training and testing\n",
    "for i in range(reps):\n",
    "    # Randomly split the data\n",
    "    songs_training_data, songs_testing_data = train_test_split(songs, train_size=31)\n",
    "    \n",
    "    # Fit the model on the training data\n",
    "    final_model_fit = smf.ols(formula=linear_form, data=songs_training_data).fit()\n",
    "    \n",
    "    # Store in-sample R-squared\n",
    "    in_sample_Rsquared[i] = final_model_fit.rsquared\n",
    "    \n",
    "    # Calculate out-of-sample R-squared using the test data\n",
    "    out_of_sample_Rsquared[i] = np.corrcoef(songs_testing_data.danceability, \n",
    "                                            final_model_fit.predict(songs_testing_data))[0, 1] ** 2\n",
    "\n",
    "# Create a DataFrame for visualization\n",
    "df = pd.DataFrame({\"In Sample Performance (Rsquared)\": in_sample_Rsquared,\n",
    "                   \"Out of Sample Performance (Rsquared)\": out_of_sample_Rsquar\n"
   ]
  },
  {
   "cell_type": "markdown",
   "id": "d01d2e3a",
   "metadata": {},
   "source": [
    "This analysis repeatedly splits the data into training and test sets, fits a model, and compares its performance on both sets using R-squared values. The goal is to assess the model's generalizability. High in-sample R-squared but low out-of-sample R-squared suggests overfitting, where the model performs well on the training data but fails to generalize to new data. A well-generalized model shows similar performance on both sets, while low performance on both indicates underfitting. This helps identify the impact of model complexity on its ability to generalize."
   ]
  },
  {
   "cell_type": "markdown",
   "id": "10eb62fa",
   "metadata": {},
   "source": [
    "https://chatgpt.com/share/6736d23a-34a0-800f-9426-94a74c5854d1"
   ]
  },
  {
   "cell_type": "markdown",
   "id": "6c0145e1",
   "metadata": {},
   "source": [
    "#### 9. Work with a ChatBot to understand the meaning of the illustration below; and, explain this in your own words<br>\n",
    "\n",
    "<details class=\"details-example\"><summary style=\"color:blue\"><u>Further Guidance</u></summary>\n",
    "\n",
    "> *While we had seemed to **validate** the **generalizability** of `model7_fit` in **model building** exercise of the previous \"Question 7\" above, as well as the improved **model performance** of `model7_fit` comapred to `model6_fit`, the `model7_fit` model was always nonetheless more complex than `model6_fit` model (as seen by comparing their `.summary()` methods). This complexity, despite the minimal concerns regarding **multicollinearity**, should always have suggested some room for caution. This is because, as previously discussed in \"Question 6\" above, a complex **linear form** specification can allow a \"**model fit** to 'detect' idiosyncratic associations spuriously present specifically in the **training** dataset but which did not **generalize** to the **testing** dataset.\" Indeed, a close look at the **p-values** in `model7_fit.summary()` will show that the **evidence** (in the data) for many of the **estimated coefficients** of `model7_fit` is not in fact very strong. In comparision, the **evidence** (in the data) for many of the **estimated coefficients** of `model6_fit.summary()` is consistently stronger.*\n",
    ">\n",
    "> *As discussed towards the end of the commentary in the previous \"Question 7\" above, the primary purpose of **multiple linear regression** methodology is to allow us to assess the **evidence** (in the data) for a given **linear form** specification based on **coefficient hypothesis testing**. In this regard, then, `model6_fit` might be preferred over `model7_fit` despite the better \"out of sample\" **model peroformance of `model7_fit` over `model6_fit`. This may not be enough to convince everyone however, so an additional consideration that might be made here is that the more simpler (more parsimoneous) nature of `model6_fit` should be preferred over `model7_fit` from the perspective of **model interpretability**. Indeed, it is quite unclear how exactly one should think about and understand a four-way **interaction** variable such as `Attack:Speed:Q(\"Sp. Def\"):Q(\"Sp. Atk\")` in conjunction with the whole host of the additional lower order interations. From a **model interpretability** perspective, understanding the meaning of the complex specification of `model7_fit` is \"challenging\" and \"complicated\" to say the least.*\n",
    ">\n",
    "> - There are also often circumstances where **model interpretability** can be MORE IMPORTANT than raw **model performance** in \"out of sample\" **prediction**.\n",
    "> - This is ESPECIALLY true if **predictive model performance** is relatively comparable between models of two different complexity levels. In such cases, the benefits of better **model interpretability** might provide a clear argument for the simpler (more parsimoneous) model, not to mention the additional potential benefit of more consistent improved **generalizability** over the the more complex model this might offer. \n",
    ">\n",
    "> *This question drives home the point that a simpler (more parsimoneous) model always offers the potential benefit of more consistent **generalizability**, not to mention **interpretability**, over more complex models. To show this, the code below raises the consideration that the random **train-test** approach used above is actually not the most natural one available for our dataset, which has different \"Generations\". In fact, if we were actually using this model to make **predictions**, we would increasingly acquire more data over time which we would use to make **precictions** about future data which we haven't yet seen, which is what the code demonstrates. And low and behold, this exposes **generalizability** concerns that we missed when we used the dataset in an idealized way and not actually how we would use such a dataset in practice in the real world (where data would arrive sequentially, and current data is used to predict future data). These **generalizability** concerns do affect both models, but the appear to be more problematic for `model7_fit` than `model6_fit`, which is certainly a result of the increased complexity of `model7_fit` which always opens up the possibility of model **overfitting**.*\n",
    "\n",
    "<details>    "
   ]
  },
  {
   "cell_type": "code",
   "execution_count": null,
   "id": "41d57caf",
   "metadata": {},
   "outputs": [],
   "source": [
    "model7_gen1_predict_future = smf.ols(formula=model7_linear_form,\n",
    "                                   data=pokeaman[pokeaman.Generation==1])\n",
    "model7_gen1_predict_future_fit = model7_gen1_predict_future.fit()\n",
    "print(\"'In sample' R-squared:    \", model7_fit.rsquared, \"(original)\")\n",
    "y = pokeaman_test.HP\n",
    "print(\"'Out of sample' R-squared:\", np.corrcoef(y,yhat_model7)[0,1]**2, \"(original)\")\n",
    "print(\"'In sample' R-squared:    \", model7_gen1_predict_future_fit.rsquared, \"(gen1_predict_future)\")\n",
    "y = pokeaman[pokeaman.Generation!=1].HP\n",
    "yhat = model7_gen1_predict_future_fit.predict(pokeaman[pokeaman.Generation!=1])\n",
    "print(\"'Out of sample' R-squared:\", np.corrcoef(y,yhat)[0,1]**2, \"(gen1_predict_future)\")"
   ]
  },
  {
   "cell_type": "code",
   "execution_count": null,
   "id": "628daf99",
   "metadata": {},
   "outputs": [],
   "source": [
    "model7_gen1to5_predict_future = smf.ols(formula=model7_linear_form,\n",
    "                                   data=pokeaman[pokeaman.Generation!=6])\n",
    "model7_gen1to5_predict_future_fit = model7_gen1to5_predict_future.fit()\n",
    "print(\"'In sample' R-squared:    \", model7_fit.rsquared, \"(original)\")\n",
    "y = pokeaman_test.HP\n",
    "print(\"'Out of sample' R-squared:\", np.corrcoef(y,yhat_model7)[0,1]**2, \"(original)\")\n",
    "print(\"'In sample' R-squared:    \", model7_gen1to5_predict_future_fit.rsquared, \"(gen1to5_predict_future)\")\n",
    "y = pokeaman[pokeaman.Generation==6].HP\n",
    "yhat = model7_gen1to5_predict_future_fit.predict(pokeaman[pokeaman.Generation==6])\n",
    "print(\"'Out of sample' R-squared:\", np.corrcoef(y,yhat)[0,1]**2, \"(gen1to5_predict_future)\")"
   ]
  },
  {
   "cell_type": "code",
   "execution_count": null,
   "id": "1c52c848",
   "metadata": {},
   "outputs": [],
   "source": [
    "model6_gen1_predict_future = smf.ols(formula=model6_linear_form,\n",
    "                                   data=pokeaman[pokeaman.Generation==1])\n",
    "model6_gen1_predict_future_fit = model6_gen1_predict_future.fit()\n",
    "print(\"'In sample' R-squared:    \", model6_fit.rsquared, \"(original)\")\n",
    "y = pokeaman_test.HP\n",
    "print(\"'Out of sample' R-squared:\", np.corrcoef(y,yhat_model6)[0,1]**2, \"(original)\")\n",
    "print(\"'In sample' R-squared:    \", model6_gen1_predict_future_fit.rsquared, \"(gen1_predict_future)\")\n",
    "y = pokeaman[pokeaman.Generation!=1].HP\n",
    "yhat = model6_gen1_predict_future_fit.predict(pokeaman[pokeaman.Generation!=1])\n",
    "print(\"'Out of sample' R-squared:\", np.corrcoef(y,yhat)[0,1]**2, \"(gen1_predict_future)\")"
   ]
  },
  {
   "cell_type": "code",
   "execution_count": null,
   "id": "6ea14cd8",
   "metadata": {},
   "outputs": [],
   "source": [
    "model6_gen1to5_predict_future = smf.ols(formula=model6_linear_form,\n",
    "                                   data=pokeaman[pokeaman.Generation!=6])\n",
    "model6_gen1to5_predict_future_fit = model6_gen1to5_predict_future.fit()\n",
    "print(\"'In sample' R-squared:    \", model6_fit.rsquared, \"(original)\")\n",
    "y = pokeaman_test.HP\n",
    "print(\"'Out of sample' R-squared:\", np.corrcoef(y,yhat_model6)[0,1]**2, \"(original)\")\n",
    "print(\"'In sample' R-squared:    \", model6_gen1to5_predict_future_fit.rsquared, \"(gen1to5_predict_future)\")\n",
    "y = pokeaman[pokeaman.Generation==6].HP\n",
    "yhat = model6_gen1to5_predict_future_fit.predict(pokeaman[pokeaman.Generation==6])\n",
    "print(\"'Out of sample' R-squared:\", np.corrcoef(y,yhat)[0,1]**2, \"(gen1to5_predict_future)\")"
   ]
  },
  {
   "cell_type": "markdown",
   "id": "2ea370ba",
   "metadata": {},
   "source": [
    "In this problem, we're comparing the \"in-sample\" and \"out-of-sample\" performance of two different models (model6 and model7) on the Pokémon dataset, focusing on how well the models generalize to unseen data.\n",
    "\n",
    "The idea is to split the Pokémon dataset by generation and then fit a model to predict HP (hit points) based on certain features. We first check the model's performance on the data it was trained on (in-sample R-squared) and then evaluate how well it performs on the test set (out-of-sample R-squared). The models are tested in different scenarios, such as predicting for Generation 1 or for Generations 1 to 5, and then assessing how well they perform on other generations (e.g., Generation 6).\n",
    "\n",
    "By comparing these R-squared values, we can see if the model is overfitting (high in-sample performance but low out-of-sample performance) or if it generalizes well to new data. For example, if the model trained on Generation 1 doesn't perform well on other generations, it suggests the model may be overfitting to the patterns in Generation 1 data that don't hold in other generations."
   ]
  },
  {
   "cell_type": "markdown",
   "id": "992924af",
   "metadata": {},
   "source": [
    "# Recommended Additional Useful Activities [Optional]\n",
    "\n",
    "The \"Ethical Profesionalism Considerations\" and \"Current Course Project Capability Level\" sections below **are not a part of the required homework assignment**; rather, they are regular weekly guides covering (a) relevant considerations regarding professional and ethical conduct, and (b) the analysis steps for the STA130 course project that are feasible at the current stage of the course<br><br>\n",
    "\n",
    "<details class=\"details-example\"><summary style=\"color:blue\"><u>Ethical Professionalism Considerations</u></summary>\n",
    "\n",
    "## Ethical Professionalism Considerations\n",
    "\n",
    "This week addresses **multiple linear regression**, perhaps best exemplified through the consideration on **interactions** and their impact on the **model interpretation**, **evidence** and **validity* of models using **coefficient hypothesis testing** and \"in sample\" versus \"out of sample\" **model performance** comparision. Exactly, as in **simple linear regression**, the correctness of **p-values** used to give **evidence** for **predictive associations** that are **estimated** from a dataset depends on the (at least approximate) \"truth\" of the assumptions of the **multiple linear regression**, which are the same as those of the **simple linear regression** with the exception that the specification **linear form** can now model a much richer set of relationships between **predictor** and **outcome variables** based on **predictive associations** observed and **evidenced** in the data. With all this in mind, and reflecting back on the **Ethical Professionalism Considerations** from the previous week concerning **simple linear regression**...\n",
    "\n",
    "1. Which of the methods used for diagnostically assessing the assumptions of a **simple linear regression** specification could be used analogously generalized to the **multiple linear regression** context for the same purpose? \n",
    "\n",
    "2. Examining the assumption of the **linear form** is more challenging in **multiple linear context**, but can be done using so-called **partial regression** (or **added variable**) **plot**. Is a ChatBot able to provide code to perform this diagnostic and instructions regarding its purpose, interpretation, and appropriate usage?\n",
    "    \n",
    "3. Are there other diagnostic analyses that a ChatBot might suggest for you to help you evaluate the appropriateness of the assumptions of **fitted multiple linear regression model** you are considering using for **interpretation** or **prediction**? And if so, s the ChatBot able to provide code to perform these additional diagnostic and instructions regarding their purpose, interpretation, and appropriate usages?\n",
    "    \n",
    "4. What do you think your ethical and professional responsibilites are when it comes to using and leveraging **multiple linear regression** methodology (and associated assumptions therein) in your work? To illustrate and demonstrate your thoughts on these considerations, can you give any specific examples of decisions that might be made during your process of executing a **multiple linear regression** that could have ethical and professional implications, risks, or consequences? What do you think are the simplest steps can you take to ensure that the conclusions of your work are both valid and reliable? What steps do you think are the most challenging from a practical perspective? \n",
    "\n",
    "</details>\n",
    "\n",
    "<details class=\"details-example\"><summary style=\"color:blue\"><u>Current Course Project Capability Level</u></summary>\n",
    "\n",
    "## Current Course Project Capability Level\n",
    "\n",
    "#### Remember to abide by the [data use agreement](https://static1.squarespace.com/static/60283c2e174c122f8ebe0f39/t/6239c284d610f76fed5a2e69/1647952517436/Data+Use+Agreement+for+the+Canadian+Social+Connection+Survey.pdf) at all times\n",
    "\n",
    "This homework's \"Question 3\" introduced the idea of performing some **multiple linear regression** analyses on dataset from the Canadian Social Connection Survey. While other questions of this homework focussed on other datasets, the general analyses and principles they introduce are no doubt informative and applicable to this the dataset for our course project. Ideally, this should put you in a position to quite proficiently perform **multiple linear regression** analyses for the course project if you so desire and find appropriate for the objectives of you course project submission. Thus, the following (and more) should be possible at this stage... \n",
    "\n",
    "1. Select multiple **predictors predictor** from the Canadian Social Connection Survey data and examine how they jointly influence an outcome variable, paying special attention to the inclusion and interpretation of **categorical** and **indicator variables** and **interactions** (in terms of \"baseline\" reference groups and \"contrast\" or \"offsets\").\n",
    "\n",
    "2. Visualize different kinds of **predictive association** relationships, including **interactions** and relationship between **predictor** and the **outcome** variables that change across different levels of other **categorical** or **indicator predictor variables**, using tools like `plotly.express`.\n",
    "\n",
    "3. Use **coefficient hypothesis testing** and \"in sample\" versus \"out of sample\" **model performance** evaluation to perform **model building** and examine **generalizability** of **fitted models**.\n",
    "       \n",
    "4. Assess the presence of **multicollinearity** by considering the **condition numbers** of **fitted models** (with \"centering and scaling\") and their subsequent potential implications on **generalizability** of **fitted models**; and, perhaps even examine **pairwise correlation** and/or **variance inflation factors** for each **predictor variable** if you're feeling extra ambitious and want to go well \"above and beyond\" (in which case you could also consider the relationship between **multicollinearity** and why one level of a **categorical** variable is always omitted).\n",
    "\n",
    "5. Compare and contrast such analyses and their benefits with previous methodologies introduced and considered in the course.\n",
    "    \n",
    "6. Explore using model diagnostic to check assess the assumptions of your **multiple linear regression** analyses, and reflect on how failurse of these assumptions might impact the reliability of your findings and conlusions derived from your **fitted model**.\n",
    "\n",
    "</details>\n"
   ]
  }
 ],
 "metadata": {
  "kernelspec": {
   "display_name": "Python 3 (ipykernel)",
   "language": "python",
   "name": "python3"
  },
  "language_info": {
   "codemirror_mode": {
    "name": "ipython",
    "version": 3
   },
   "file_extension": ".py",
   "mimetype": "text/x-python",
   "name": "python",
   "nbconvert_exporter": "python",
   "pygments_lexer": "ipython3",
   "version": "3.11.6"
  }
 },
 "nbformat": 4,
 "nbformat_minor": 5
}
